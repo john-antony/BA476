{
  "cells": [
    {
      "cell_type": "markdown",
      "metadata": {
        "id": "erJAq9xHoAg-"
      },
      "source": [
        "# Fake Job Listings"
      ]
    },
    {
      "cell_type": "code",
      "execution_count": null,
      "metadata": {
        "colab": {
          "base_uri": "https://localhost:8080/"
        },
        "id": "KZBUOge1eGfb",
        "outputId": "c83bb75f-cd3b-4c35-89a2-ed97616f6eb1"
      },
      "outputs": [
        {
          "name": "stdout",
          "output_type": "stream",
          "text": [
            "Drive already mounted at /content/drive; to attempt to forcibly remount, call drive.mount(\"/content/drive\", force_remount=True).\n"
          ]
        }
      ],
      "source": [
        "import pandas as pd\n",
        "import numpy as np\n",
        "import matplotlib.pyplot as plt\n",
        "import seaborn as sns\n",
        "from google.colab import drive\n",
        "drive.mount('/content/drive')"
      ]
    },
    {
      "cell_type": "code",
      "execution_count": null,
      "metadata": {
        "id": "RUMcFWvfeGfc"
      },
      "outputs": [],
      "source": [
        "fake_job_postings = pd.read_csv('/content/drive/My Drive/BA476Team3/data/fake_job_postings.csv')"
      ]
    },
    {
      "cell_type": "markdown",
      "metadata": {
        "id": "p-5MrkSJ65ds"
      },
      "source": [
        "Displaying Dataset Information"
      ]
    },
    {
      "cell_type": "code",
      "execution_count": null,
      "metadata": {
        "colab": {
          "base_uri": "https://localhost:8080/",
          "height": 300
        },
        "id": "dQyfkxtNeGfd",
        "outputId": "49861220-bc5f-45f4-9963-cd58d9c1f3ea"
      },
      "outputs": [
        {
          "data": {
            "text/html": [
              "\n",
              "  <div id=\"df-11cfb766-582f-4da1-b7ff-a1c4a6ce72bc\">\n",
              "    <div class=\"colab-df-container\">\n",
              "      <div>\n",
              "<style scoped>\n",
              "    .dataframe tbody tr th:only-of-type {\n",
              "        vertical-align: middle;\n",
              "    }\n",
              "\n",
              "    .dataframe tbody tr th {\n",
              "        vertical-align: top;\n",
              "    }\n",
              "\n",
              "    .dataframe thead th {\n",
              "        text-align: right;\n",
              "    }\n",
              "</style>\n",
              "<table border=\"1\" class=\"dataframe\">\n",
              "  <thead>\n",
              "    <tr style=\"text-align: right;\">\n",
              "      <th></th>\n",
              "      <th>job_id</th>\n",
              "      <th>telecommuting</th>\n",
              "      <th>has_company_logo</th>\n",
              "      <th>has_questions</th>\n",
              "      <th>fraudulent</th>\n",
              "    </tr>\n",
              "  </thead>\n",
              "  <tbody>\n",
              "    <tr>\n",
              "      <th>count</th>\n",
              "      <td>17880.000000</td>\n",
              "      <td>17880.000000</td>\n",
              "      <td>17880.000000</td>\n",
              "      <td>17880.000000</td>\n",
              "      <td>17880.000000</td>\n",
              "    </tr>\n",
              "    <tr>\n",
              "      <th>mean</th>\n",
              "      <td>8940.500000</td>\n",
              "      <td>0.042897</td>\n",
              "      <td>0.795302</td>\n",
              "      <td>0.491723</td>\n",
              "      <td>0.048434</td>\n",
              "    </tr>\n",
              "    <tr>\n",
              "      <th>std</th>\n",
              "      <td>5161.655742</td>\n",
              "      <td>0.202631</td>\n",
              "      <td>0.403492</td>\n",
              "      <td>0.499945</td>\n",
              "      <td>0.214688</td>\n",
              "    </tr>\n",
              "    <tr>\n",
              "      <th>min</th>\n",
              "      <td>1.000000</td>\n",
              "      <td>0.000000</td>\n",
              "      <td>0.000000</td>\n",
              "      <td>0.000000</td>\n",
              "      <td>0.000000</td>\n",
              "    </tr>\n",
              "    <tr>\n",
              "      <th>25%</th>\n",
              "      <td>4470.750000</td>\n",
              "      <td>0.000000</td>\n",
              "      <td>1.000000</td>\n",
              "      <td>0.000000</td>\n",
              "      <td>0.000000</td>\n",
              "    </tr>\n",
              "    <tr>\n",
              "      <th>50%</th>\n",
              "      <td>8940.500000</td>\n",
              "      <td>0.000000</td>\n",
              "      <td>1.000000</td>\n",
              "      <td>0.000000</td>\n",
              "      <td>0.000000</td>\n",
              "    </tr>\n",
              "    <tr>\n",
              "      <th>75%</th>\n",
              "      <td>13410.250000</td>\n",
              "      <td>0.000000</td>\n",
              "      <td>1.000000</td>\n",
              "      <td>1.000000</td>\n",
              "      <td>0.000000</td>\n",
              "    </tr>\n",
              "    <tr>\n",
              "      <th>max</th>\n",
              "      <td>17880.000000</td>\n",
              "      <td>1.000000</td>\n",
              "      <td>1.000000</td>\n",
              "      <td>1.000000</td>\n",
              "      <td>1.000000</td>\n",
              "    </tr>\n",
              "  </tbody>\n",
              "</table>\n",
              "</div>\n",
              "      <button class=\"colab-df-convert\" onclick=\"convertToInteractive('df-11cfb766-582f-4da1-b7ff-a1c4a6ce72bc')\"\n",
              "              title=\"Convert this dataframe to an interactive table.\"\n",
              "              style=\"display:none;\">\n",
              "        \n",
              "  <svg xmlns=\"http://www.w3.org/2000/svg\" height=\"24px\"viewBox=\"0 0 24 24\"\n",
              "       width=\"24px\">\n",
              "    <path d=\"M0 0h24v24H0V0z\" fill=\"none\"/>\n",
              "    <path d=\"M18.56 5.44l.94 2.06.94-2.06 2.06-.94-2.06-.94-.94-2.06-.94 2.06-2.06.94zm-11 1L8.5 8.5l.94-2.06 2.06-.94-2.06-.94L8.5 2.5l-.94 2.06-2.06.94zm10 10l.94 2.06.94-2.06 2.06-.94-2.06-.94-.94-2.06-.94 2.06-2.06.94z\"/><path d=\"M17.41 7.96l-1.37-1.37c-.4-.4-.92-.59-1.43-.59-.52 0-1.04.2-1.43.59L10.3 9.45l-7.72 7.72c-.78.78-.78 2.05 0 2.83L4 21.41c.39.39.9.59 1.41.59.51 0 1.02-.2 1.41-.59l7.78-7.78 2.81-2.81c.8-.78.8-2.07 0-2.86zM5.41 20L4 18.59l7.72-7.72 1.47 1.35L5.41 20z\"/>\n",
              "  </svg>\n",
              "      </button>\n",
              "      \n",
              "  <style>\n",
              "    .colab-df-container {\n",
              "      display:flex;\n",
              "      flex-wrap:wrap;\n",
              "      gap: 12px;\n",
              "    }\n",
              "\n",
              "    .colab-df-convert {\n",
              "      background-color: #E8F0FE;\n",
              "      border: none;\n",
              "      border-radius: 50%;\n",
              "      cursor: pointer;\n",
              "      display: none;\n",
              "      fill: #1967D2;\n",
              "      height: 32px;\n",
              "      padding: 0 0 0 0;\n",
              "      width: 32px;\n",
              "    }\n",
              "\n",
              "    .colab-df-convert:hover {\n",
              "      background-color: #E2EBFA;\n",
              "      box-shadow: 0px 1px 2px rgba(60, 64, 67, 0.3), 0px 1px 3px 1px rgba(60, 64, 67, 0.15);\n",
              "      fill: #174EA6;\n",
              "    }\n",
              "\n",
              "    [theme=dark] .colab-df-convert {\n",
              "      background-color: #3B4455;\n",
              "      fill: #D2E3FC;\n",
              "    }\n",
              "\n",
              "    [theme=dark] .colab-df-convert:hover {\n",
              "      background-color: #434B5C;\n",
              "      box-shadow: 0px 1px 3px 1px rgba(0, 0, 0, 0.15);\n",
              "      filter: drop-shadow(0px 1px 2px rgba(0, 0, 0, 0.3));\n",
              "      fill: #FFFFFF;\n",
              "    }\n",
              "  </style>\n",
              "\n",
              "      <script>\n",
              "        const buttonEl =\n",
              "          document.querySelector('#df-11cfb766-582f-4da1-b7ff-a1c4a6ce72bc button.colab-df-convert');\n",
              "        buttonEl.style.display =\n",
              "          google.colab.kernel.accessAllowed ? 'block' : 'none';\n",
              "\n",
              "        async function convertToInteractive(key) {\n",
              "          const element = document.querySelector('#df-11cfb766-582f-4da1-b7ff-a1c4a6ce72bc');\n",
              "          const dataTable =\n",
              "            await google.colab.kernel.invokeFunction('convertToInteractive',\n",
              "                                                     [key], {});\n",
              "          if (!dataTable) return;\n",
              "\n",
              "          const docLinkHtml = 'Like what you see? Visit the ' +\n",
              "            '<a target=\"_blank\" href=https://colab.research.google.com/notebooks/data_table.ipynb>data table notebook</a>'\n",
              "            + ' to learn more about interactive tables.';\n",
              "          element.innerHTML = '';\n",
              "          dataTable['output_type'] = 'display_data';\n",
              "          await google.colab.output.renderOutput(dataTable, element);\n",
              "          const docLink = document.createElement('div');\n",
              "          docLink.innerHTML = docLinkHtml;\n",
              "          element.appendChild(docLink);\n",
              "        }\n",
              "      </script>\n",
              "    </div>\n",
              "  </div>\n",
              "  "
            ],
            "text/plain": [
              "             job_id  telecommuting  has_company_logo  has_questions  \\\n",
              "count  17880.000000   17880.000000      17880.000000   17880.000000   \n",
              "mean    8940.500000       0.042897          0.795302       0.491723   \n",
              "std     5161.655742       0.202631          0.403492       0.499945   \n",
              "min        1.000000       0.000000          0.000000       0.000000   \n",
              "25%     4470.750000       0.000000          1.000000       0.000000   \n",
              "50%     8940.500000       0.000000          1.000000       0.000000   \n",
              "75%    13410.250000       0.000000          1.000000       1.000000   \n",
              "max    17880.000000       1.000000          1.000000       1.000000   \n",
              "\n",
              "         fraudulent  \n",
              "count  17880.000000  \n",
              "mean       0.048434  \n",
              "std        0.214688  \n",
              "min        0.000000  \n",
              "25%        0.000000  \n",
              "50%        0.000000  \n",
              "75%        0.000000  \n",
              "max        1.000000  "
            ]
          },
          "execution_count": 3,
          "metadata": {},
          "output_type": "execute_result"
        }
      ],
      "source": [
        "fake_job_postings.describe()"
      ]
    },
    {
      "cell_type": "code",
      "execution_count": null,
      "metadata": {
        "colab": {
          "base_uri": "https://localhost:8080/"
        },
        "id": "u5p3WtR3eGfd",
        "outputId": "53b6d264-0d91-4cb8-b644-75b9f60ff0b1"
      },
      "outputs": [
        {
          "data": {
            "text/plain": [
              "job_id                     0\n",
              "title                      0\n",
              "location                 346\n",
              "department             11547\n",
              "salary_range           15012\n",
              "company_profile         3308\n",
              "description                1\n",
              "requirements            2695\n",
              "benefits                7210\n",
              "telecommuting              0\n",
              "has_company_logo           0\n",
              "has_questions              0\n",
              "employment_type         3471\n",
              "required_experience     7050\n",
              "required_education      8105\n",
              "industry                4903\n",
              "function                6455\n",
              "fraudulent                 0\n",
              "dtype: int64"
            ]
          },
          "execution_count": 4,
          "metadata": {},
          "output_type": "execute_result"
        }
      ],
      "source": [
        "fake_job_postings.isnull().sum()"
      ]
    },
    {
      "cell_type": "code",
      "execution_count": null,
      "metadata": {
        "id": "bbFlr4kqeGfe"
      },
      "outputs": [],
      "source": [
        "fake_job_postings.location = fake_job_postings.location.fillna('blank')"
      ]
    },
    {
      "cell_type": "code",
      "execution_count": null,
      "metadata": {
        "id": "YQzaEF-teGff"
      },
      "outputs": [],
      "source": [
        "fake_job_postings_US = fake_job_postings[fake_job_postings['location'].str.contains(\"US\")]"
      ]
    },
    {
      "cell_type": "code",
      "execution_count": null,
      "metadata": {
        "id": "KlufAspDeGff"
      },
      "outputs": [],
      "source": [
        "#splitting location into state and city for further analysis\n",
        "state_city =[]\n",
        "for loc in fake_job_postings_US.location:\n",
        "    state_city.append(loc.split(','))\n",
        "\n",
        "state_city = pd.DataFrame(state_city)\n",
        "state_city = state_city[[1, 2]]\n",
        "state_city = state_city.rename(columns={1: \"state\", 2:'city'})"
      ]
    },
    {
      "cell_type": "code",
      "execution_count": null,
      "metadata": {
        "colab": {
          "base_uri": "https://localhost:8080/"
        },
        "id": "oOxNq-8peGfg",
        "outputId": "df9fdd5e-082e-496c-f3b6-c03b7e760fd8"
      },
      "outputs": [
        {
          "data": {
            "text/plain": [
              "0.5959731543624162"
            ]
          },
          "execution_count": 8,
          "metadata": {},
          "output_type": "execute_result"
        }
      ],
      "source": [
        "#calculating ratio of US jobs to all job postings\n",
        "len(fake_job_postings_US)/len(fake_job_postings)"
      ]
    },
    {
      "cell_type": "code",
      "execution_count": null,
      "metadata": {
        "id": "OSjtpRt_eGfg"
      },
      "outputs": [],
      "source": [
        "fake_job_postings_US = fake_job_postings_US.reset_index()\n",
        "fake_job_postings_US = fake_job_postings_US.join(state_city)"
      ]
    },
    {
      "cell_type": "code",
      "execution_count": null,
      "metadata": {
        "id": "v2x96VpeeGfh"
      },
      "outputs": [],
      "source": [
        "fake_job_postings_US = fake_job_postings_US[['job_id', 'title', 'location', 'department', 'salary_range',\n",
        "       'company_profile', 'description', 'requirements', 'benefits',\n",
        "       'telecommuting', 'has_company_logo', 'has_questions', 'employment_type',\n",
        "       'required_experience', 'required_education', 'industry', 'function',\n",
        "       'fraudulent', 'state', 'city']]"
      ]
    },
    {
      "cell_type": "code",
      "execution_count": null,
      "metadata": {
        "id": "RgiVsSCDeGfi"
      },
      "outputs": [],
      "source": [
        "fake_job_postings_US = fake_job_postings_US[fake_job_postings_US['city'].notna()]\n",
        "fake_job_postings_US = fake_job_postings_US[fake_job_postings_US['state'].notna()]"
      ]
    },
    {
      "cell_type": "code",
      "execution_count": null,
      "metadata": {
        "colab": {
          "base_uri": "https://localhost:8080/"
        },
        "id": "fFZYMh0EeGfi",
        "outputId": "c4384f23-52b5-4560-9eca-fd084139cb01"
      },
      "outputs": [
        {
          "data": {
            "text/plain": [
              "(10593, 20)"
            ]
          },
          "execution_count": 12,
          "metadata": {},
          "output_type": "execute_result"
        }
      ],
      "source": [
        "fake_job_postings_US.shape"
      ]
    },
    {
      "cell_type": "code",
      "execution_count": null,
      "metadata": {
        "colab": {
          "base_uri": "https://localhost:8080/"
        },
        "id": "XSTdqwq-eGfi",
        "outputId": "010e6069-9b49-445f-ab39-964606f134e8"
      },
      "outputs": [
        {
          "data": {
            "text/plain": [
              "job_id                    0\n",
              "title                     0\n",
              "location                  0\n",
              "department             7567\n",
              "salary_range           9064\n",
              "company_profile        2037\n",
              "description               0\n",
              "requirements           1744\n",
              "benefits               4638\n",
              "telecommuting             0\n",
              "has_company_logo          0\n",
              "has_questions             0\n",
              "employment_type        1754\n",
              "required_experience    4267\n",
              "required_education     4460\n",
              "industry               2672\n",
              "function               3889\n",
              "fraudulent                0\n",
              "state                     0\n",
              "city                      0\n",
              "state_city                0\n",
              "dtype: int64"
            ]
          },
          "execution_count": 13,
          "metadata": {},
          "output_type": "execute_result"
        }
      ],
      "source": [
        "fake_job_postings_US['state_city'] = fake_job_postings_US['state'] + \", \" + fake_job_postings_US['city']\n",
        "fake_job_postings_US.isna().sum()"
      ]
    },
    {
      "cell_type": "code",
      "execution_count": null,
      "metadata": {
        "colab": {
          "base_uri": "https://localhost:8080/",
          "height": 922
        },
        "id": "LRey72UgeGfj",
        "outputId": "5524f082-9b94-4473-bc56-22660a6fd938"
      },
      "outputs": [
        {
          "data": {
            "text/html": [
              "\n",
              "  <div id=\"df-18fa96b0-bd94-4da1-ae4c-3da83f1d8a4a\">\n",
              "    <div class=\"colab-df-container\">\n",
              "      <div>\n",
              "<style scoped>\n",
              "    .dataframe tbody tr th:only-of-type {\n",
              "        vertical-align: middle;\n",
              "    }\n",
              "\n",
              "    .dataframe tbody tr th {\n",
              "        vertical-align: top;\n",
              "    }\n",
              "\n",
              "    .dataframe thead th {\n",
              "        text-align: right;\n",
              "    }\n",
              "</style>\n",
              "<table border=\"1\" class=\"dataframe\">\n",
              "  <thead>\n",
              "    <tr style=\"text-align: right;\">\n",
              "      <th></th>\n",
              "      <th>job_id</th>\n",
              "      <th>title</th>\n",
              "      <th>location</th>\n",
              "      <th>department</th>\n",
              "      <th>salary_range</th>\n",
              "      <th>company_profile</th>\n",
              "      <th>description</th>\n",
              "      <th>requirements</th>\n",
              "      <th>benefits</th>\n",
              "      <th>telecommuting</th>\n",
              "      <th>...</th>\n",
              "      <th>has_questions</th>\n",
              "      <th>employment_type</th>\n",
              "      <th>required_experience</th>\n",
              "      <th>required_education</th>\n",
              "      <th>industry</th>\n",
              "      <th>function</th>\n",
              "      <th>fraudulent</th>\n",
              "      <th>state</th>\n",
              "      <th>city</th>\n",
              "      <th>state_city</th>\n",
              "    </tr>\n",
              "  </thead>\n",
              "  <tbody>\n",
              "    <tr>\n",
              "      <th>0</th>\n",
              "      <td>1</td>\n",
              "      <td>Marketing Intern</td>\n",
              "      <td>US, NY, New York</td>\n",
              "      <td>Marketing</td>\n",
              "      <td>NaN</td>\n",
              "      <td>We're Food52, and we've created a groundbreaki...</td>\n",
              "      <td>Food52, a fast-growing, James Beard Award-winn...</td>\n",
              "      <td>Experience with content management systems a m...</td>\n",
              "      <td>NaN</td>\n",
              "      <td>0</td>\n",
              "      <td>...</td>\n",
              "      <td>0</td>\n",
              "      <td>Other</td>\n",
              "      <td>Internship</td>\n",
              "      <td>NaN</td>\n",
              "      <td>NaN</td>\n",
              "      <td>Marketing</td>\n",
              "      <td>0</td>\n",
              "      <td>NY</td>\n",
              "      <td>New York</td>\n",
              "      <td>NY,  New York</td>\n",
              "    </tr>\n",
              "    <tr>\n",
              "      <th>1</th>\n",
              "      <td>3</td>\n",
              "      <td>Commissioning Machinery Assistant (CMA)</td>\n",
              "      <td>US, IA, Wever</td>\n",
              "      <td>NaN</td>\n",
              "      <td>NaN</td>\n",
              "      <td>Valor Services provides Workforce Solutions th...</td>\n",
              "      <td>Our client, located in Houston, is actively se...</td>\n",
              "      <td>Implement pre-commissioning and commissioning ...</td>\n",
              "      <td>NaN</td>\n",
              "      <td>0</td>\n",
              "      <td>...</td>\n",
              "      <td>0</td>\n",
              "      <td>NaN</td>\n",
              "      <td>NaN</td>\n",
              "      <td>NaN</td>\n",
              "      <td>NaN</td>\n",
              "      <td>NaN</td>\n",
              "      <td>0</td>\n",
              "      <td>IA</td>\n",
              "      <td>Wever</td>\n",
              "      <td>IA,  Wever</td>\n",
              "    </tr>\n",
              "    <tr>\n",
              "      <th>2</th>\n",
              "      <td>4</td>\n",
              "      <td>Account Executive - Washington DC</td>\n",
              "      <td>US, DC, Washington</td>\n",
              "      <td>Sales</td>\n",
              "      <td>NaN</td>\n",
              "      <td>Our passion for improving quality of life thro...</td>\n",
              "      <td>THE COMPANY: ESRI – Environmental Systems Rese...</td>\n",
              "      <td>EDUCATION: Bachelor’s or Master’s in GIS, busi...</td>\n",
              "      <td>Our culture is anything but corporate—we have ...</td>\n",
              "      <td>0</td>\n",
              "      <td>...</td>\n",
              "      <td>0</td>\n",
              "      <td>Full-time</td>\n",
              "      <td>Mid-Senior level</td>\n",
              "      <td>Bachelor's Degree</td>\n",
              "      <td>Computer Software</td>\n",
              "      <td>Sales</td>\n",
              "      <td>0</td>\n",
              "      <td>DC</td>\n",
              "      <td>Washington</td>\n",
              "      <td>DC,  Washington</td>\n",
              "    </tr>\n",
              "    <tr>\n",
              "      <th>3</th>\n",
              "      <td>5</td>\n",
              "      <td>Bill Review Manager</td>\n",
              "      <td>US, FL, Fort Worth</td>\n",
              "      <td>NaN</td>\n",
              "      <td>NaN</td>\n",
              "      <td>SpotSource Solutions LLC is a Global Human Cap...</td>\n",
              "      <td>JOB TITLE: Itemization Review ManagerLOCATION:...</td>\n",
              "      <td>QUALIFICATIONS:RN license in the State of Texa...</td>\n",
              "      <td>Full Benefits Offered</td>\n",
              "      <td>0</td>\n",
              "      <td>...</td>\n",
              "      <td>1</td>\n",
              "      <td>Full-time</td>\n",
              "      <td>Mid-Senior level</td>\n",
              "      <td>Bachelor's Degree</td>\n",
              "      <td>Hospital &amp; Health Care</td>\n",
              "      <td>Health Care Provider</td>\n",
              "      <td>0</td>\n",
              "      <td>FL</td>\n",
              "      <td>Fort Worth</td>\n",
              "      <td>FL,  Fort Worth</td>\n",
              "    </tr>\n",
              "    <tr>\n",
              "      <th>4</th>\n",
              "      <td>6</td>\n",
              "      <td>Accounting Clerk</td>\n",
              "      <td>US, MD,</td>\n",
              "      <td>NaN</td>\n",
              "      <td>NaN</td>\n",
              "      <td>NaN</td>\n",
              "      <td>Job OverviewApex is an environmental consultin...</td>\n",
              "      <td>NaN</td>\n",
              "      <td>NaN</td>\n",
              "      <td>0</td>\n",
              "      <td>...</td>\n",
              "      <td>0</td>\n",
              "      <td>NaN</td>\n",
              "      <td>NaN</td>\n",
              "      <td>NaN</td>\n",
              "      <td>NaN</td>\n",
              "      <td>NaN</td>\n",
              "      <td>0</td>\n",
              "      <td>MD</td>\n",
              "      <td></td>\n",
              "      <td>MD,</td>\n",
              "    </tr>\n",
              "    <tr>\n",
              "      <th>...</th>\n",
              "      <td>...</td>\n",
              "      <td>...</td>\n",
              "      <td>...</td>\n",
              "      <td>...</td>\n",
              "      <td>...</td>\n",
              "      <td>...</td>\n",
              "      <td>...</td>\n",
              "      <td>...</td>\n",
              "      <td>...</td>\n",
              "      <td>...</td>\n",
              "      <td>...</td>\n",
              "      <td>...</td>\n",
              "      <td>...</td>\n",
              "      <td>...</td>\n",
              "      <td>...</td>\n",
              "      <td>...</td>\n",
              "      <td>...</td>\n",
              "      <td>...</td>\n",
              "      <td>...</td>\n",
              "      <td>...</td>\n",
              "      <td>...</td>\n",
              "    </tr>\n",
              "    <tr>\n",
              "      <th>10651</th>\n",
              "      <td>17873</td>\n",
              "      <td>Product Manager</td>\n",
              "      <td>US, CA, San Francisco</td>\n",
              "      <td>Product Development</td>\n",
              "      <td>NaN</td>\n",
              "      <td>Flite delivers ad innovation at scale to the w...</td>\n",
              "      <td>Flite's SaaS display ad platform fuels the wor...</td>\n",
              "      <td>BA/BS in Computer Science or a related technic...</td>\n",
              "      <td>Competitive baseAttractive stock option planMe...</td>\n",
              "      <td>0</td>\n",
              "      <td>...</td>\n",
              "      <td>0</td>\n",
              "      <td>Full-time</td>\n",
              "      <td>NaN</td>\n",
              "      <td>NaN</td>\n",
              "      <td>Internet</td>\n",
              "      <td>Product Management</td>\n",
              "      <td>0</td>\n",
              "      <td>CA</td>\n",
              "      <td>San Francisco</td>\n",
              "      <td>CA,  San Francisco</td>\n",
              "    </tr>\n",
              "    <tr>\n",
              "      <th>10652</th>\n",
              "      <td>17874</td>\n",
              "      <td>Recruiting Coordinator</td>\n",
              "      <td>US, NC, Charlotte</td>\n",
              "      <td>NaN</td>\n",
              "      <td>NaN</td>\n",
              "      <td>NaN</td>\n",
              "      <td>RESPONSIBILITIES:Will facilitate the recruitin...</td>\n",
              "      <td>REQUIRED SKILLS:Associates Degree or a combina...</td>\n",
              "      <td>NaN</td>\n",
              "      <td>0</td>\n",
              "      <td>...</td>\n",
              "      <td>0</td>\n",
              "      <td>Contract</td>\n",
              "      <td>NaN</td>\n",
              "      <td>NaN</td>\n",
              "      <td>Utilities</td>\n",
              "      <td>NaN</td>\n",
              "      <td>0</td>\n",
              "      <td>NC</td>\n",
              "      <td>Charlotte</td>\n",
              "      <td>NC,  Charlotte</td>\n",
              "    </tr>\n",
              "    <tr>\n",
              "      <th>10653</th>\n",
              "      <td>17875</td>\n",
              "      <td>JavaScript Developer</td>\n",
              "      <td>US, ,</td>\n",
              "      <td>NaN</td>\n",
              "      <td>80000-100000</td>\n",
              "      <td>NaN</td>\n",
              "      <td>Sr, JavaScript Developer Experience : 4-10 yea...</td>\n",
              "      <td>NaN</td>\n",
              "      <td>NaN</td>\n",
              "      <td>0</td>\n",
              "      <td>...</td>\n",
              "      <td>0</td>\n",
              "      <td>Full-time</td>\n",
              "      <td>Mid-Senior level</td>\n",
              "      <td>Bachelor's Degree</td>\n",
              "      <td>Computer Software</td>\n",
              "      <td>Information Technology</td>\n",
              "      <td>0</td>\n",
              "      <td></td>\n",
              "      <td></td>\n",
              "      <td>,</td>\n",
              "    </tr>\n",
              "    <tr>\n",
              "      <th>10654</th>\n",
              "      <td>17877</td>\n",
              "      <td>Payroll Accountant</td>\n",
              "      <td>US, PA, Philadelphia</td>\n",
              "      <td>Accounting</td>\n",
              "      <td>NaN</td>\n",
              "      <td>WebLinc is the e-commerce platform and service...</td>\n",
              "      <td>The Payroll Accountant will focus primarily on...</td>\n",
              "      <td>- B.A. or B.S. in Accounting- Desire to have f...</td>\n",
              "      <td>Health &amp;amp; WellnessMedical planPrescription ...</td>\n",
              "      <td>0</td>\n",
              "      <td>...</td>\n",
              "      <td>1</td>\n",
              "      <td>Full-time</td>\n",
              "      <td>Mid-Senior level</td>\n",
              "      <td>Bachelor's Degree</td>\n",
              "      <td>Internet</td>\n",
              "      <td>Accounting/Auditing</td>\n",
              "      <td>0</td>\n",
              "      <td>PA</td>\n",
              "      <td>Philadelphia</td>\n",
              "      <td>PA,  Philadelphia</td>\n",
              "    </tr>\n",
              "    <tr>\n",
              "      <th>10655</th>\n",
              "      <td>17878</td>\n",
              "      <td>Project Cost Control Staff Engineer - Cost Con...</td>\n",
              "      <td>US, TX, Houston</td>\n",
              "      <td>NaN</td>\n",
              "      <td>NaN</td>\n",
              "      <td>We Provide Full Time Permanent Positions for m...</td>\n",
              "      <td>Experienced Project Cost Control Staff Enginee...</td>\n",
              "      <td>At least 12 years professional experience.Abil...</td>\n",
              "      <td>NaN</td>\n",
              "      <td>0</td>\n",
              "      <td>...</td>\n",
              "      <td>0</td>\n",
              "      <td>Full-time</td>\n",
              "      <td>NaN</td>\n",
              "      <td>NaN</td>\n",
              "      <td>NaN</td>\n",
              "      <td>NaN</td>\n",
              "      <td>0</td>\n",
              "      <td>TX</td>\n",
              "      <td>Houston</td>\n",
              "      <td>TX,  Houston</td>\n",
              "    </tr>\n",
              "  </tbody>\n",
              "</table>\n",
              "<p>10593 rows × 21 columns</p>\n",
              "</div>\n",
              "      <button class=\"colab-df-convert\" onclick=\"convertToInteractive('df-18fa96b0-bd94-4da1-ae4c-3da83f1d8a4a')\"\n",
              "              title=\"Convert this dataframe to an interactive table.\"\n",
              "              style=\"display:none;\">\n",
              "        \n",
              "  <svg xmlns=\"http://www.w3.org/2000/svg\" height=\"24px\"viewBox=\"0 0 24 24\"\n",
              "       width=\"24px\">\n",
              "    <path d=\"M0 0h24v24H0V0z\" fill=\"none\"/>\n",
              "    <path d=\"M18.56 5.44l.94 2.06.94-2.06 2.06-.94-2.06-.94-.94-2.06-.94 2.06-2.06.94zm-11 1L8.5 8.5l.94-2.06 2.06-.94-2.06-.94L8.5 2.5l-.94 2.06-2.06.94zm10 10l.94 2.06.94-2.06 2.06-.94-2.06-.94-.94-2.06-.94 2.06-2.06.94z\"/><path d=\"M17.41 7.96l-1.37-1.37c-.4-.4-.92-.59-1.43-.59-.52 0-1.04.2-1.43.59L10.3 9.45l-7.72 7.72c-.78.78-.78 2.05 0 2.83L4 21.41c.39.39.9.59 1.41.59.51 0 1.02-.2 1.41-.59l7.78-7.78 2.81-2.81c.8-.78.8-2.07 0-2.86zM5.41 20L4 18.59l7.72-7.72 1.47 1.35L5.41 20z\"/>\n",
              "  </svg>\n",
              "      </button>\n",
              "      \n",
              "  <style>\n",
              "    .colab-df-container {\n",
              "      display:flex;\n",
              "      flex-wrap:wrap;\n",
              "      gap: 12px;\n",
              "    }\n",
              "\n",
              "    .colab-df-convert {\n",
              "      background-color: #E8F0FE;\n",
              "      border: none;\n",
              "      border-radius: 50%;\n",
              "      cursor: pointer;\n",
              "      display: none;\n",
              "      fill: #1967D2;\n",
              "      height: 32px;\n",
              "      padding: 0 0 0 0;\n",
              "      width: 32px;\n",
              "    }\n",
              "\n",
              "    .colab-df-convert:hover {\n",
              "      background-color: #E2EBFA;\n",
              "      box-shadow: 0px 1px 2px rgba(60, 64, 67, 0.3), 0px 1px 3px 1px rgba(60, 64, 67, 0.15);\n",
              "      fill: #174EA6;\n",
              "    }\n",
              "\n",
              "    [theme=dark] .colab-df-convert {\n",
              "      background-color: #3B4455;\n",
              "      fill: #D2E3FC;\n",
              "    }\n",
              "\n",
              "    [theme=dark] .colab-df-convert:hover {\n",
              "      background-color: #434B5C;\n",
              "      box-shadow: 0px 1px 3px 1px rgba(0, 0, 0, 0.15);\n",
              "      filter: drop-shadow(0px 1px 2px rgba(0, 0, 0, 0.3));\n",
              "      fill: #FFFFFF;\n",
              "    }\n",
              "  </style>\n",
              "\n",
              "      <script>\n",
              "        const buttonEl =\n",
              "          document.querySelector('#df-18fa96b0-bd94-4da1-ae4c-3da83f1d8a4a button.colab-df-convert');\n",
              "        buttonEl.style.display =\n",
              "          google.colab.kernel.accessAllowed ? 'block' : 'none';\n",
              "\n",
              "        async function convertToInteractive(key) {\n",
              "          const element = document.querySelector('#df-18fa96b0-bd94-4da1-ae4c-3da83f1d8a4a');\n",
              "          const dataTable =\n",
              "            await google.colab.kernel.invokeFunction('convertToInteractive',\n",
              "                                                     [key], {});\n",
              "          if (!dataTable) return;\n",
              "\n",
              "          const docLinkHtml = 'Like what you see? Visit the ' +\n",
              "            '<a target=\"_blank\" href=https://colab.research.google.com/notebooks/data_table.ipynb>data table notebook</a>'\n",
              "            + ' to learn more about interactive tables.';\n",
              "          element.innerHTML = '';\n",
              "          dataTable['output_type'] = 'display_data';\n",
              "          await google.colab.output.renderOutput(dataTable, element);\n",
              "          const docLink = document.createElement('div');\n",
              "          docLink.innerHTML = docLinkHtml;\n",
              "          element.appendChild(docLink);\n",
              "        }\n",
              "      </script>\n",
              "    </div>\n",
              "  </div>\n",
              "  "
            ],
            "text/plain": [
              "       job_id                                              title  \\\n",
              "0           1                                   Marketing Intern   \n",
              "1           3            Commissioning Machinery Assistant (CMA)   \n",
              "2           4                  Account Executive - Washington DC   \n",
              "3           5                                Bill Review Manager   \n",
              "4           6                                   Accounting Clerk   \n",
              "...       ...                                                ...   \n",
              "10651   17873                                    Product Manager   \n",
              "10652   17874                             Recruiting Coordinator   \n",
              "10653   17875                               JavaScript Developer   \n",
              "10654   17877                                 Payroll Accountant   \n",
              "10655   17878  Project Cost Control Staff Engineer - Cost Con...   \n",
              "\n",
              "                    location           department  salary_range  \\\n",
              "0           US, NY, New York            Marketing           NaN   \n",
              "1              US, IA, Wever                  NaN           NaN   \n",
              "2         US, DC, Washington                Sales           NaN   \n",
              "3         US, FL, Fort Worth                  NaN           NaN   \n",
              "4                   US, MD,                   NaN           NaN   \n",
              "...                      ...                  ...           ...   \n",
              "10651  US, CA, San Francisco  Product Development           NaN   \n",
              "10652      US, NC, Charlotte                  NaN           NaN   \n",
              "10653                 US, ,                   NaN  80000-100000   \n",
              "10654   US, PA, Philadelphia           Accounting           NaN   \n",
              "10655        US, TX, Houston                  NaN           NaN   \n",
              "\n",
              "                                         company_profile  \\\n",
              "0      We're Food52, and we've created a groundbreaki...   \n",
              "1      Valor Services provides Workforce Solutions th...   \n",
              "2      Our passion for improving quality of life thro...   \n",
              "3      SpotSource Solutions LLC is a Global Human Cap...   \n",
              "4                                                    NaN   \n",
              "...                                                  ...   \n",
              "10651  Flite delivers ad innovation at scale to the w...   \n",
              "10652                                                NaN   \n",
              "10653                                                NaN   \n",
              "10654  WebLinc is the e-commerce platform and service...   \n",
              "10655  We Provide Full Time Permanent Positions for m...   \n",
              "\n",
              "                                             description  \\\n",
              "0      Food52, a fast-growing, James Beard Award-winn...   \n",
              "1      Our client, located in Houston, is actively se...   \n",
              "2      THE COMPANY: ESRI – Environmental Systems Rese...   \n",
              "3      JOB TITLE: Itemization Review ManagerLOCATION:...   \n",
              "4      Job OverviewApex is an environmental consultin...   \n",
              "...                                                  ...   \n",
              "10651  Flite's SaaS display ad platform fuels the wor...   \n",
              "10652  RESPONSIBILITIES:Will facilitate the recruitin...   \n",
              "10653  Sr, JavaScript Developer Experience : 4-10 yea...   \n",
              "10654  The Payroll Accountant will focus primarily on...   \n",
              "10655  Experienced Project Cost Control Staff Enginee...   \n",
              "\n",
              "                                            requirements  \\\n",
              "0      Experience with content management systems a m...   \n",
              "1      Implement pre-commissioning and commissioning ...   \n",
              "2      EDUCATION: Bachelor’s or Master’s in GIS, busi...   \n",
              "3      QUALIFICATIONS:RN license in the State of Texa...   \n",
              "4                                                    NaN   \n",
              "...                                                  ...   \n",
              "10651  BA/BS in Computer Science or a related technic...   \n",
              "10652  REQUIRED SKILLS:Associates Degree or a combina...   \n",
              "10653                                                NaN   \n",
              "10654  - B.A. or B.S. in Accounting- Desire to have f...   \n",
              "10655  At least 12 years professional experience.Abil...   \n",
              "\n",
              "                                                benefits  telecommuting  ...  \\\n",
              "0                                                    NaN              0  ...   \n",
              "1                                                    NaN              0  ...   \n",
              "2      Our culture is anything but corporate—we have ...              0  ...   \n",
              "3                                  Full Benefits Offered              0  ...   \n",
              "4                                                    NaN              0  ...   \n",
              "...                                                  ...            ...  ...   \n",
              "10651  Competitive baseAttractive stock option planMe...              0  ...   \n",
              "10652                                                NaN              0  ...   \n",
              "10653                                                NaN              0  ...   \n",
              "10654  Health &amp; WellnessMedical planPrescription ...              0  ...   \n",
              "10655                                                NaN              0  ...   \n",
              "\n",
              "       has_questions  employment_type required_experience required_education  \\\n",
              "0                  0            Other          Internship                NaN   \n",
              "1                  0              NaN                 NaN                NaN   \n",
              "2                  0        Full-time    Mid-Senior level  Bachelor's Degree   \n",
              "3                  1        Full-time    Mid-Senior level  Bachelor's Degree   \n",
              "4                  0              NaN                 NaN                NaN   \n",
              "...              ...              ...                 ...                ...   \n",
              "10651              0        Full-time                 NaN                NaN   \n",
              "10652              0         Contract                 NaN                NaN   \n",
              "10653              0        Full-time    Mid-Senior level  Bachelor's Degree   \n",
              "10654              1        Full-time    Mid-Senior level  Bachelor's Degree   \n",
              "10655              0        Full-time                 NaN                NaN   \n",
              "\n",
              "                     industry                function fraudulent  state  \\\n",
              "0                         NaN               Marketing          0     NY   \n",
              "1                         NaN                     NaN          0     IA   \n",
              "2           Computer Software                   Sales          0     DC   \n",
              "3      Hospital & Health Care    Health Care Provider          0     FL   \n",
              "4                         NaN                     NaN          0     MD   \n",
              "...                       ...                     ...        ...    ...   \n",
              "10651                Internet      Product Management          0     CA   \n",
              "10652               Utilities                     NaN          0     NC   \n",
              "10653       Computer Software  Information Technology          0          \n",
              "10654                Internet     Accounting/Auditing          0     PA   \n",
              "10655                     NaN                     NaN          0     TX   \n",
              "\n",
              "                city           state_city  \n",
              "0           New York        NY,  New York  \n",
              "1              Wever           IA,  Wever  \n",
              "2         Washington      DC,  Washington  \n",
              "3         Fort Worth      FL,  Fort Worth  \n",
              "4                                   MD,    \n",
              "...              ...                  ...  \n",
              "10651  San Francisco   CA,  San Francisco  \n",
              "10652      Charlotte       NC,  Charlotte  \n",
              "10653                                 ,    \n",
              "10654   Philadelphia    PA,  Philadelphia  \n",
              "10655        Houston         TX,  Houston  \n",
              "\n",
              "[10593 rows x 21 columns]"
            ]
          },
          "execution_count": 14,
          "metadata": {},
          "output_type": "execute_result"
        }
      ],
      "source": [
        "fake_job_postings_US.city = fake_job_postings_US.city.str.strip()\n",
        "fake_job_postings_US.state = fake_job_postings_US.state.str.strip()\n",
        "fake_job_postings_US"
      ]
    },
    {
      "cell_type": "code",
      "execution_count": null,
      "metadata": {
        "id": "1DhoilCGeGfj"
      },
      "outputs": [],
      "source": []
    },
    {
      "cell_type": "code",
      "execution_count": null,
      "metadata": {
        "colab": {
          "base_uri": "https://localhost:8080/",
          "height": 354
        },
        "id": "3wNLKJX2eGfj",
        "outputId": "8fdc5460-7c24-40a0-c5de-bd56993c1ece"
      },
      "outputs": [
        {
          "data": {
            "image/png": "[encoded data removed]",
            "text/plain": [
              "<Figure size 432x288 with 2 Axes>"
            ]
          },
          "metadata": {},
          "output_type": "display_data"
        }
      ],
      "source": [
        "sns.cubehelix_palette(start=.5, rot=-.5, as_cmap=True)\n",
        "corr = fake_job_postings_US.corr()\n",
        "sns.heatmap(corr,cmap=\"Greens\")\n",
        "plt.show()"
      ]
    },
    {
      "cell_type": "code",
      "execution_count": null,
      "metadata": {
        "colab": {
          "base_uri": "https://localhost:8080/"
        },
        "id": "K64vxAuAeGfk",
        "outputId": "e2623078-a409-4eab-9e20-5e8490570597"
      },
      "outputs": [
        {
          "data": {
            "text/plain": [
              "(9868, 725)"
            ]
          },
          "execution_count": 16,
          "metadata": {},
          "output_type": "execute_result"
        }
      ],
      "source": [
        "len(fake_job_postings_US[fake_job_postings_US.fraudulent == 0]), len(fake_job_postings_US[fake_job_postings_US.fraudulent == 1]), "
      ]
    },
    {
      "cell_type": "code",
      "execution_count": null,
      "metadata": {
        "colab": {
          "base_uri": "https://localhost:8080/",
          "height": 279
        },
        "id": "r7Uf97freGfk",
        "outputId": "e901c3a3-af71-433e-e11d-4a53f72636cd"
      },
      "outputs": [
        {
          "data": {
            "image/png": "[encoded data removed]",
            "text/plain": [
              "<Figure size 432x288 with 1 Axes>"
            ]
          },
          "metadata": {},
          "output_type": "display_data"
        }
      ],
      "source": [
        "sns.countplot(x='fraudulent', data=fake_job_postings_US, palette = ['#063b00','#0eff00']);"
      ]
    },
    {
      "cell_type": "code",
      "execution_count": null,
      "metadata": {
        "id": "QkzwLy-BeGfk"
      },
      "outputs": [],
      "source": [
        "def sns_countplot(feature):\n",
        "    sns.countplot(x=feature, data=fake_job_postings_US, hue=\"fraudulent\",\n",
        "              order=fake_job_postings_US[feature].value_counts().iloc[:10].index)\n",
        "    plt.xticks(rotation=90)\n",
        "    title = feature + ' fake job count'\n",
        "    plt.title('Location Fake Jobs')\n",
        "    plt.show()"
      ]
    },
    {
      "cell_type": "code",
      "execution_count": null,
      "metadata": {
        "colab": {
          "base_uri": "https://localhost:8080/",
          "height": 411
        },
        "id": "FLi7XR8keGfl",
        "outputId": "e11f8add-7468-4d01-e586-723419e1dde6"
      },
      "outputs": [
        {
          "data": {
            "image/png": "[encoded data removed]",
            "text/plain": [
              "<Figure size 720x432 with 1 Axes>"
            ]
          },
          "metadata": {},
          "output_type": "display_data"
        }
      ],
      "source": [
        "plt.figure(figsize=(10,6))\n",
        "fake_job_postings_US.groupby('state').fraudulent.count().plot(kind='bar', title='Job count by states');"
      ]
    },
    {
      "cell_type": "code",
      "execution_count": null,
      "metadata": {
        "colab": {
          "base_uri": "https://localhost:8080/",
          "height": 397
        },
        "id": "IBzQefgieGfl",
        "outputId": "2cc3a511-8fe3-4b6c-800e-021f9fa94b6b"
      },
      "outputs": [
        {
          "data": {
            "image/png": "[encoded data removed]",
            "text/plain": [
              "<Figure size 720x432 with 1 Axes>"
            ]
          },
          "metadata": {},
          "output_type": "display_data"
        }
      ],
      "source": [
        "plt.figure(figsize=(10,6))\n",
        "sns.countplot(x='state', data=fake_job_postings_US, hue=\"fraudulent\", order=fake_job_postings_US['state'].value_counts().iloc[:10].index, palette = ['#063b00','#0eff00'])\n",
        "plt.xticks(rotation=90)\n",
        "plt.show()"
      ]
    },
    {
      "cell_type": "code",
      "execution_count": null,
      "metadata": {
        "colab": {
          "base_uri": "https://localhost:8080/",
          "height": 365
        },
        "id": "t7K_0vTQeGfl",
        "outputId": "353051ab-c9f1-4763-c5cc-1d135a118c04"
      },
      "outputs": [
        {
          "data": {
            "image/png": "[encoded data removed]",
            "text/plain": [
              "<Figure size 432x288 with 1 Axes>"
            ]
          },
          "metadata": {},
          "output_type": "display_data"
        }
      ],
      "source": [
        "sns.countplot(x='state_city', data=fake_job_postings_US, hue=\"fraudulent\", order=fake_job_postings_US['state_city'].value_counts().iloc[:10].index, palette = ['#063b00','#0eff00'])\n",
        "plt.xticks(rotation=90)\n",
        "plt.show()"
      ]
    },
    {
      "cell_type": "code",
      "execution_count": null,
      "metadata": {
        "id": "Fa1TVgLOeGfl"
      },
      "outputs": [],
      "source": [
        "def sns_countplot(feature):\n",
        "    sns.countplot(x=feature, data=fake_job_postings_US, hue=\"fraudulent\",\n",
        "              order=fake_job_postings_US[feature].value_counts().iloc[:10].index, palette = ['#063b00','#0eff00'])\n",
        "    plt.xticks(rotation=90)\n",
        "    title = feature + ' fake job count'\n",
        "    plt.title(title)\n",
        "    plt.show()"
      ]
    },
    {
      "cell_type": "code",
      "execution_count": null,
      "metadata": {
        "colab": {
          "base_uri": "https://localhost:8080/",
          "height": 339
        },
        "id": "sHVp23aBeGfm",
        "outputId": "2de30f02-b2f3-4438-a7a8-3d442319a112"
      },
      "outputs": [
        {
          "data": {
            "image/png": "[encoded data removed]",
            "text/plain": [
              "<Figure size 432x288 with 1 Axes>"
            ]
          },
          "metadata": {},
          "output_type": "display_data"
        }
      ],
      "source": [
        "sns_countplot('employment_type');"
      ]
    },
    {
      "cell_type": "code",
      "execution_count": null,
      "metadata": {
        "colab": {
          "base_uri": "https://localhost:8080/",
          "height": 366
        },
        "id": "y-W2toIYeGfm",
        "outputId": "12484a01-9e5a-40bf-d2b1-d79c2bdbd9b9"
      },
      "outputs": [
        {
          "data": {
            "image/png": "[encoded data removed]",
            "text/plain": [
              "<Figure size 432x288 with 1 Axes>"
            ]
          },
          "metadata": {},
          "output_type": "display_data"
        }
      ],
      "source": [
        "sns_countplot('required_experience');"
      ]
    },
    {
      "cell_type": "code",
      "execution_count": null,
      "metadata": {
        "colab": {
          "base_uri": "https://localhost:8080/",
          "height": 474
        },
        "id": "Gh30r5mNeGfm",
        "outputId": "5e734d33-57a7-4e5c-bc71-5dad14bdd91c"
      },
      "outputs": [
        {
          "data": {
            "image/png": "[encoded data removed]",
            "text/plain": [
              "<Figure size 432x288 with 1 Axes>"
            ]
          },
          "metadata": {},
          "output_type": "display_data"
        }
      ],
      "source": [
        "sns_countplot('required_education');"
      ]
    },
    {
      "cell_type": "code",
      "execution_count": null,
      "metadata": {
        "id": "lcDp2obQeGfm"
      },
      "outputs": [],
      "source": [
        "location_ratio = round(fake_job_postings_US[fake_job_postings_US.fraudulent == 1].groupby('state_city').state_city.count()/fake_job_postings_US[fake_job_postings_US.fraudulent == 0].groupby('state_city').state_city.count(), 2)\n",
        "location_ratio = pd.DataFrame({'state_city':location_ratio.index, 'ratio':location_ratio.values})"
      ]
    },
    {
      "cell_type": "code",
      "execution_count": null,
      "metadata": {
        "id": "M4lhC-LNeGfm"
      },
      "outputs": [],
      "source": [
        "fake_job_postings_US = fake_job_postings_US.merge(location_ratio)"
      ]
    },
    {
      "cell_type": "code",
      "execution_count": null,
      "metadata": {
        "id": "L8r7nJuseGfm"
      },
      "outputs": [],
      "source": [
        "fake_job_postings_US.ratio.fillna(0, inplace=True)"
      ]
    },
    {
      "cell_type": "code",
      "execution_count": null,
      "metadata": {
        "id": "8jfc2IeUeGfm"
      },
      "outputs": [],
      "source": [
        "location_ratio_plot = location_ratio[location_ratio.ratio >= 1]"
      ]
    },
    {
      "cell_type": "code",
      "execution_count": null,
      "metadata": {
        "colab": {
          "base_uri": "https://localhost:8080/",
          "height": 391
        },
        "id": "7-xWkB0zeGfn",
        "outputId": "bc09333e-761f-4ba3-ea67-29fdf1e5e182"
      },
      "outputs": [
        {
          "data": {
            "image/png": "[encoded data removed]",
            "text/plain": [
              "<Figure size 432x288 with 1 Axes>"
            ]
          },
          "metadata": {},
          "output_type": "display_data"
        }
      ],
      "source": [
        "palette = sns.color_palette(\"ch:s=.45,rot=-.45\")\n",
        "sns.barplot(data=location_ratio_plot.sort_values(by='ratio'), x='state_city', y='ratio', palette=palette)\n",
        "plt.xticks(rotation=90)\n",
        "plt.title('Fake to Real Job Ratio')\n",
        "plt.show()"
      ]
    },
    {
      "cell_type": "code",
      "execution_count": null,
      "metadata": {
        "id": "eirfLk2HeGfn"
      },
      "outputs": [],
      "source": [
        "def null_count(feature, title='None'):\n",
        "    y_axis = fake_job_postings_US[fake_job_postings_US[feature].isna()][['fraudulent', feature]]\n",
        "    y_axis = y_axis.fraudulent.value_counts()\n",
        "    y_axis.plot(kind='bar')\n",
        "    plt.ylabel('Count')\n",
        "    plt.xlabel('Category')\n",
        "    title = \"Number of empty \" + title + \" in fraudulent and non-fraudulent\"\n",
        "    plt.title(title)\n",
        "    plt.xticks(rotation=0)\n",
        "    plt.show()\n",
        "    return 0"
      ]
    },
    {
      "cell_type": "code",
      "execution_count": null,
      "metadata": {
        "colab": {
          "base_uri": "https://localhost:8080/",
          "height": 312
        },
        "id": "PA24MJSjeGfn",
        "outputId": "ddf92fa3-96ec-4bf4-dc2c-630dce33797a"
      },
      "outputs": [
        {
          "data": {
            "image/png": "[encoded data removed]",
            "text/plain": [
              "<Figure size 432x288 with 1 Axes>"
            ]
          },
          "metadata": {},
          "output_type": "display_data"
        },
        {
          "data": {
            "text/plain": [
              "0"
            ]
          },
          "execution_count": 32,
          "metadata": {},
          "output_type": "execute_result"
        }
      ],
      "source": [
        "null_count('function', 'Functions')"
      ]
    },
    {
      "cell_type": "code",
      "execution_count": null,
      "metadata": {
        "colab": {
          "base_uri": "https://localhost:8080/",
          "height": 312
        },
        "id": "3tBMoO4qeGfn",
        "outputId": "33c3f67e-e008-4347-f056-db216551668d"
      },
      "outputs": [
        {
          "data": {
            "image/png": "[encoded data removed]",
            "text/plain": [
              "<Figure size 432x288 with 1 Axes>"
            ]
          },
          "metadata": {},
          "output_type": "display_data"
        },
        {
          "data": {
            "text/plain": [
              "0"
            ]
          },
          "execution_count": 33,
          "metadata": {},
          "output_type": "execute_result"
        }
      ],
      "source": [
        "null_count('company_profile', 'Company Profile')"
      ]
    },
    {
      "cell_type": "code",
      "execution_count": null,
      "metadata": {
        "colab": {
          "background_save": true,
          "base_uri": "https://localhost:8080/",
          "height": 312
        },
        "id": "mdDpLyopeGfn",
        "outputId": "868689fd-bcaa-48bb-d968-3e9b3202c32f"
      },
      "outputs": [
        {
          "data": {
            "image/png": "[encoded data removed]",
            "text/plain": [
              "<Figure size 432x288 with 1 Axes>"
            ]
          },
          "metadata": {},
          "output_type": "display_data"
        },
        {
          "data": {
            "text/plain": [
              "0"
            ]
          },
          "execution_count": 34,
          "metadata": {},
          "output_type": "execute_result"
        }
      ],
      "source": [
        "null_count('required_education', 'Required Education')"
      ]
    },
    {
      "cell_type": "code",
      "execution_count": null,
      "metadata": {
        "colab": {
          "background_save": true,
          "base_uri": "https://localhost:8080/",
          "height": 312
        },
        "id": "51N_7CezeGfo",
        "outputId": "c88d40ee-a737-42d7-f904-6461bedf2e68"
      },
      "outputs": [
        {
          "data": {
            "image/png": "[encoded data removed]",
            "text/plain": [
              "<Figure size 432x288 with 1 Axes>"
            ]
          },
          "metadata": {},
          "output_type": "display_data"
        },
        {
          "data": {
            "text/plain": [
              "0"
            ]
          },
          "execution_count": 35,
          "metadata": {},
          "output_type": "execute_result"
        }
      ],
      "source": [
        "null_count('industry', 'Industry')"
      ]
    },
    {
      "cell_type": "code",
      "execution_count": null,
      "metadata": {
        "colab": {
          "background_save": true,
          "base_uri": "https://localhost:8080/",
          "height": 312
        },
        "id": "YWGDB8W7eGfo",
        "outputId": "50a50263-0eda-4f84-9ce0-691e00e824b1"
      },
      "outputs": [
        {
          "data": {
            "image/png": "[encoded data removed]",
            "text/plain": [
              "<Figure size 432x288 with 1 Axes>"
            ]
          },
          "metadata": {},
          "output_type": "display_data"
        },
        {
          "data": {
            "text/plain": [
              "0"
            ]
          },
          "execution_count": 36,
          "metadata": {},
          "output_type": "execute_result"
        }
      ],
      "source": [
        "null_count('benefits', 'Benefits')"
      ]
    },
    {
      "cell_type": "code",
      "execution_count": null,
      "metadata": {
        "colab": {
          "background_save": true
        },
        "id": "Wotm7F7JeGfo"
      },
      "outputs": [],
      "source": [
        "telecommuting_list = []\n",
        "has_company_logo_list = []\n",
        "\n",
        "for idx, tel, logo in zip(range(len(fake_job_postings_US)), fake_job_postings_US.telecommuting, fake_job_postings_US.has_company_logo):\n",
        "    if fake_job_postings.fraudulent[idx] == 1:\n",
        "        telecommuting_list.append(tel)\n",
        "        has_company_logo_list.append(logo)\n",
        "    else:\n",
        "        pass\n",
        "\n",
        "telecommuting_logo_df = pd.DataFrame({'telecommuting':telecommuting_list, 'has_company_logo':has_company_logo_list})"
      ]
    },
    {
      "cell_type": "code",
      "execution_count": null,
      "metadata": {
        "colab": {
          "background_save": true,
          "base_uri": "https://localhost:8080/"
        },
        "id": "ccehZ78JeGfo",
        "outputId": "a5ba1dcc-c4bd-425d-cfcd-770acb00e0ee"
      },
      "outputs": [
        {
          "name": "stdout",
          "output_type": "stream",
          "text": [
            "425\n"
          ]
        }
      ],
      "source": [
        "fake_count = 0\n",
        "\n",
        "for fraud, tel, logo in zip(fake_job_postings_US.fraudulent, fake_job_postings_US.telecommuting, fake_job_postings_US.has_company_logo):\n",
        "    if (tel == 0 and logo == 0):\n",
        "        if (fraud == 1):\n",
        "            fake_count +=1\n",
        "        else:\n",
        "            pass\n",
        "    else:\n",
        "        pass\n",
        "\n",
        "\n",
        "print(fake_count)"
      ]
    },
    {
      "cell_type": "code",
      "execution_count": null,
      "metadata": {
        "colab": {
          "background_save": true,
          "base_uri": "https://localhost:8080/"
        },
        "id": "mARV4dxceGfo",
        "outputId": "18c50bc4-af33-4097-b9d8-b7c7ebb68dc3"
      },
      "outputs": [
        {
          "name": "stdout",
          "output_type": "stream",
          "text": [
            "667\n"
          ]
        }
      ],
      "source": [
        "fake_count = 0\n",
        "\n",
        "for fraud, tel, logo, ques in zip(fake_job_postings_US.fraudulent, fake_job_postings_US.telecommuting, fake_job_postings_US.has_company_logo, fake_job_postings_US.has_questions):\n",
        "    if (tel == 0):# and logo == 0 and ques == 0):\n",
        "        if (fraud == 1):\n",
        "            fake_count +=1\n",
        "        else:\n",
        "            pass\n",
        "    else:\n",
        "        pass\n",
        "\n",
        "\n",
        "print(fake_count)"
      ]
    },
    {
      "cell_type": "code",
      "execution_count": null,
      "metadata": {
        "colab": {
          "background_save": true,
          "base_uri": "https://localhost:8080/"
        },
        "id": "ca55NJUUeGfp",
        "outputId": "96e86066-3a49-4526-d51d-5de4cc2aa8f9"
      },
      "outputs": [
        {
          "data": {
            "text/plain": [
              "725"
            ]
          },
          "execution_count": 40,
          "metadata": {},
          "output_type": "execute_result"
        }
      ],
      "source": [
        "len(fake_job_postings_US[fake_job_postings_US.fraudulent == 1])"
      ]
    },
    {
      "cell_type": "code",
      "execution_count": null,
      "metadata": {
        "colab": {
          "background_save": true,
          "base_uri": "https://localhost:8080/"
        },
        "id": "DZS9aifDeGfp",
        "outputId": "1eb1883f-5df4-44bc-edc7-fc1509cfe659"
      },
      "outputs": [
        {
          "data": {
            "text/plain": [
              "0.92"
            ]
          },
          "execution_count": 41,
          "metadata": {},
          "output_type": "execute_result"
        }
      ],
      "source": [
        "667/725"
      ]
    },
    {
      "cell_type": "code",
      "execution_count": null,
      "metadata": {
        "colab": {
          "background_save": true,
          "base_uri": "https://localhost:8080/"
        },
        "id": "RphXJyvveGfp",
        "outputId": "09f5ef9a-be0e-4d46-9a86-a9c34b8ba937"
      },
      "outputs": [
        {
          "data": {
            "text/plain": [
              "92.0"
            ]
          },
          "execution_count": 42,
          "metadata": {},
          "output_type": "execute_result"
        }
      ],
      "source": [
        "fake_count/len(fake_job_postings_US[fake_job_postings_US.fraudulent == 1]) * 100"
      ]
    },
    {
      "cell_type": "code",
      "execution_count": null,
      "metadata": {
        "colab": {
          "background_save": true
        },
        "id": "_b1Er3CDeGfp"
      },
      "outputs": [],
      "source": [
        "fake_job_postings_US.fillna(\" \",inplace = True)\n",
        "\n",
        "fake_job_postings_US['text'] =  fake_job_postings_US['title'] + ' ' + fake_job_postings_US['location'] + ' ' + fake_job_postings_US['company_profile'] + ' ' + \\\n",
        "        fake_job_postings_US['description'] + ' ' + fake_job_postings_US['requirements'] + ' ' + fake_job_postings_US['benefits'] + ' ' + \\\n",
        "        fake_job_postings_US['required_experience'] + ' ' + fake_job_postings_US['required_education'] + ' ' + fake_job_postings_US['industry'] + ' ' + fake_job_postings_US['function']\n",
        "\n",
        "fake_job_postings_US.drop(['job_id', 'department', 'salary_range', 'title','location','department','company_profile','description','requirements','benefits','employment_type','required_experience','required_education','industry','function', 'city', 'state_city', 'has_company_logo', 'has_questions', 'state'], axis = 1, inplace = True)"
      ]
    },
    {
      "cell_type": "code",
      "execution_count": null,
      "metadata": {
        "colab": {
          "background_save": true,
          "base_uri": "https://localhost:8080/",
          "height": 424
        },
        "id": "q5Go1oz7eGfp",
        "outputId": "17c9d89a-dbd6-44f7-ed9f-470d7c96a491"
      },
      "outputs": [
        {
          "data": {
            "text/html": [
              "\n",
              "  <div id=\"df-2b884f5c-c4e0-4ec9-a40c-a0a2bceaeb14\">\n",
              "    <div class=\"colab-df-container\">\n",
              "      <div>\n",
              "<style scoped>\n",
              "    .dataframe tbody tr th:only-of-type {\n",
              "        vertical-align: middle;\n",
              "    }\n",
              "\n",
              "    .dataframe tbody tr th {\n",
              "        vertical-align: top;\n",
              "    }\n",
              "\n",
              "    .dataframe thead th {\n",
              "        text-align: right;\n",
              "    }\n",
              "</style>\n",
              "<table border=\"1\" class=\"dataframe\">\n",
              "  <thead>\n",
              "    <tr style=\"text-align: right;\">\n",
              "      <th></th>\n",
              "      <th>telecommuting</th>\n",
              "      <th>fraudulent</th>\n",
              "      <th>ratio</th>\n",
              "      <th>text</th>\n",
              "    </tr>\n",
              "  </thead>\n",
              "  <tbody>\n",
              "    <tr>\n",
              "      <th>0</th>\n",
              "      <td>0</td>\n",
              "      <td>0</td>\n",
              "      <td>0.03</td>\n",
              "      <td>Marketing Intern US, NY, New York We're Food52...</td>\n",
              "    </tr>\n",
              "    <tr>\n",
              "      <th>1</th>\n",
              "      <td>0</td>\n",
              "      <td>0</td>\n",
              "      <td>0.03</td>\n",
              "      <td>Visual Designer US, NY, New York Kettle is an ...</td>\n",
              "    </tr>\n",
              "    <tr>\n",
              "      <th>2</th>\n",
              "      <td>0</td>\n",
              "      <td>0</td>\n",
              "      <td>0.03</td>\n",
              "      <td>Payroll Tax Specialist US, NY, New York Namely...</td>\n",
              "    </tr>\n",
              "    <tr>\n",
              "      <th>3</th>\n",
              "      <td>0</td>\n",
              "      <td>0</td>\n",
              "      <td>0.03</td>\n",
              "      <td>Marketing Manager US, NY, New York Super Socce...</td>\n",
              "    </tr>\n",
              "    <tr>\n",
              "      <th>4</th>\n",
              "      <td>0</td>\n",
              "      <td>0</td>\n",
              "      <td>0.03</td>\n",
              "      <td>English Teacher Abroad US, NY, New York We hel...</td>\n",
              "    </tr>\n",
              "    <tr>\n",
              "      <th>...</th>\n",
              "      <td>...</td>\n",
              "      <td>...</td>\n",
              "      <td>...</td>\n",
              "      <td>...</td>\n",
              "    </tr>\n",
              "    <tr>\n",
              "      <th>10588</th>\n",
              "      <td>1</td>\n",
              "      <td>1</td>\n",
              "      <td>0.00</td>\n",
              "      <td>Military Benefits Counselor US, , chicago Anth...</td>\n",
              "    </tr>\n",
              "    <tr>\n",
              "      <th>10589</th>\n",
              "      <td>0</td>\n",
              "      <td>0</td>\n",
              "      <td>0.00</td>\n",
              "      <td>Sr.Business Intelligence Technical Architect U...</td>\n",
              "    </tr>\n",
              "    <tr>\n",
              "      <th>10590</th>\n",
              "      <td>0</td>\n",
              "      <td>0</td>\n",
              "      <td>0.00</td>\n",
              "      <td>Licensed Practical Nurse (LPN)- Private Duty U...</td>\n",
              "    </tr>\n",
              "    <tr>\n",
              "      <th>10591</th>\n",
              "      <td>0</td>\n",
              "      <td>0</td>\n",
              "      <td>0.00</td>\n",
              "      <td>SAS Grid Developer US, NJ, Berkeley Heights   ...</td>\n",
              "    </tr>\n",
              "    <tr>\n",
              "      <th>10592</th>\n",
              "      <td>0</td>\n",
              "      <td>0</td>\n",
              "      <td>0.00</td>\n",
              "      <td>Sr. Scm Web Development Technical Lead US, CA,...</td>\n",
              "    </tr>\n",
              "  </tbody>\n",
              "</table>\n",
              "<p>10593 rows × 4 columns</p>\n",
              "</div>\n",
              "      <button class=\"colab-df-convert\" onclick=\"convertToInteractive('df-2b884f5c-c4e0-4ec9-a40c-a0a2bceaeb14')\"\n",
              "              title=\"Convert this dataframe to an interactive table.\"\n",
              "              style=\"display:none;\">\n",
              "        \n",
              "  <svg xmlns=\"http://www.w3.org/2000/svg\" height=\"24px\"viewBox=\"0 0 24 24\"\n",
              "       width=\"24px\">\n",
              "    <path d=\"M0 0h24v24H0V0z\" fill=\"none\"/>\n",
              "    <path d=\"M18.56 5.44l.94 2.06.94-2.06 2.06-.94-2.06-.94-.94-2.06-.94 2.06-2.06.94zm-11 1L8.5 8.5l.94-2.06 2.06-.94-2.06-.94L8.5 2.5l-.94 2.06-2.06.94zm10 10l.94 2.06.94-2.06 2.06-.94-2.06-.94-.94-2.06-.94 2.06-2.06.94z\"/><path d=\"M17.41 7.96l-1.37-1.37c-.4-.4-.92-.59-1.43-.59-.52 0-1.04.2-1.43.59L10.3 9.45l-7.72 7.72c-.78.78-.78 2.05 0 2.83L4 21.41c.39.39.9.59 1.41.59.51 0 1.02-.2 1.41-.59l7.78-7.78 2.81-2.81c.8-.78.8-2.07 0-2.86zM5.41 20L4 18.59l7.72-7.72 1.47 1.35L5.41 20z\"/>\n",
              "  </svg>\n",
              "      </button>\n",
              "      \n",
              "  <style>\n",
              "    .colab-df-container {\n",
              "      display:flex;\n",
              "      flex-wrap:wrap;\n",
              "      gap: 12px;\n",
              "    }\n",
              "\n",
              "    .colab-df-convert {\n",
              "      background-color: #E8F0FE;\n",
              "      border: none;\n",
              "      border-radius: 50%;\n",
              "      cursor: pointer;\n",
              "      display: none;\n",
              "      fill: #1967D2;\n",
              "      height: 32px;\n",
              "      padding: 0 0 0 0;\n",
              "      width: 32px;\n",
              "    }\n",
              "\n",
              "    .colab-df-convert:hover {\n",
              "      background-color: #E2EBFA;\n",
              "      box-shadow: 0px 1px 2px rgba(60, 64, 67, 0.3), 0px 1px 3px 1px rgba(60, 64, 67, 0.15);\n",
              "      fill: #174EA6;\n",
              "    }\n",
              "\n",
              "    [theme=dark] .colab-df-convert {\n",
              "      background-color: #3B4455;\n",
              "      fill: #D2E3FC;\n",
              "    }\n",
              "\n",
              "    [theme=dark] .colab-df-convert:hover {\n",
              "      background-color: #434B5C;\n",
              "      box-shadow: 0px 1px 3px 1px rgba(0, 0, 0, 0.15);\n",
              "      filter: drop-shadow(0px 1px 2px rgba(0, 0, 0, 0.3));\n",
              "      fill: #FFFFFF;\n",
              "    }\n",
              "  </style>\n",
              "\n",
              "      <script>\n",
              "        const buttonEl =\n",
              "          document.querySelector('#df-2b884f5c-c4e0-4ec9-a40c-a0a2bceaeb14 button.colab-df-convert');\n",
              "        buttonEl.style.display =\n",
              "          google.colab.kernel.accessAllowed ? 'block' : 'none';\n",
              "\n",
              "        async function convertToInteractive(key) {\n",
              "          const element = document.querySelector('#df-2b884f5c-c4e0-4ec9-a40c-a0a2bceaeb14');\n",
              "          const dataTable =\n",
              "            await google.colab.kernel.invokeFunction('convertToInteractive',\n",
              "                                                     [key], {});\n",
              "          if (!dataTable) return;\n",
              "\n",
              "          const docLinkHtml = 'Like what you see? Visit the ' +\n",
              "            '<a target=\"_blank\" href=https://colab.research.google.com/notebooks/data_table.ipynb>data table notebook</a>'\n",
              "            + ' to learn more about interactive tables.';\n",
              "          element.innerHTML = '';\n",
              "          dataTable['output_type'] = 'display_data';\n",
              "          await google.colab.output.renderOutput(dataTable, element);\n",
              "          const docLink = document.createElement('div');\n",
              "          docLink.innerHTML = docLinkHtml;\n",
              "          element.appendChild(docLink);\n",
              "        }\n",
              "      </script>\n",
              "    </div>\n",
              "  </div>\n",
              "  "
            ],
            "text/plain": [
              "       telecommuting  fraudulent  ratio  \\\n",
              "0                  0           0   0.03   \n",
              "1                  0           0   0.03   \n",
              "2                  0           0   0.03   \n",
              "3                  0           0   0.03   \n",
              "4                  0           0   0.03   \n",
              "...              ...         ...    ...   \n",
              "10588              1           1   0.00   \n",
              "10589              0           0   0.00   \n",
              "10590              0           0   0.00   \n",
              "10591              0           0   0.00   \n",
              "10592              0           0   0.00   \n",
              "\n",
              "                                                    text  \n",
              "0      Marketing Intern US, NY, New York We're Food52...  \n",
              "1      Visual Designer US, NY, New York Kettle is an ...  \n",
              "2      Payroll Tax Specialist US, NY, New York Namely...  \n",
              "3      Marketing Manager US, NY, New York Super Socce...  \n",
              "4      English Teacher Abroad US, NY, New York We hel...  \n",
              "...                                                  ...  \n",
              "10588  Military Benefits Counselor US, , chicago Anth...  \n",
              "10589  Sr.Business Intelligence Technical Architect U...  \n",
              "10590  Licensed Practical Nurse (LPN)- Private Duty U...  \n",
              "10591  SAS Grid Developer US, NJ, Berkeley Heights   ...  \n",
              "10592  Sr. Scm Web Development Technical Lead US, CA,...  \n",
              "\n",
              "[10593 rows x 4 columns]"
            ]
          },
          "execution_count": 44,
          "metadata": {},
          "output_type": "execute_result"
        }
      ],
      "source": [
        "fake_job_postings_US"
      ]
    },
    {
      "cell_type": "code",
      "execution_count": null,
      "metadata": {
        "colab": {
          "background_save": true,
          "base_uri": "https://localhost:8080/",
          "height": 295
        },
        "id": "2M_gwo70eGfq",
        "outputId": "af0f341f-cd6c-4a86-a840-7fa9d561b479"
      },
      "outputs": [
        {
          "data": {
            "image/png": "[encoded data removed]",
            "text/plain": [
              "<Figure size 432x288 with 1 Axes>"
            ]
          },
          "metadata": {},
          "output_type": "display_data"
        }
      ],
      "source": [
        "fake_job_postings_US['character_count'] = fake_job_postings_US.text.apply(len)\n",
        "\n",
        "fake_job_postings_US[fake_job_postings_US.fraudulent==0].character_count.plot(bins=35, kind='hist', color='green', \n",
        "                                       label='Real', alpha=0.8)\n",
        "fake_job_postings_US[fake_job_postings_US.fraudulent==1].character_count.plot(kind='hist', color='red', \n",
        "                                       label='Fake', alpha=0.8)\n",
        "plt.legend()\n",
        "plt.title('Frequency of Words')\n",
        "plt.xlabel(\"Character Count\");"
      ]
    },
    {
      "cell_type": "code",
      "execution_count": null,
      "metadata": {
        "colab": {
          "background_save": true,
          "base_uri": "https://localhost:8080/",
          "height": 424
        },
        "id": "GJC8cxEHeGfq",
        "outputId": "dd43e6e8-c086-4220-9688-56bf3185f3f3"
      },
      "outputs": [
        {
          "data": {
            "text/html": [
              "\n",
              "  <div id=\"df-7be1dda8-e96d-4763-8869-ab080a8694ae\">\n",
              "    <div class=\"colab-df-container\">\n",
              "      <div>\n",
              "<style scoped>\n",
              "    .dataframe tbody tr th:only-of-type {\n",
              "        vertical-align: middle;\n",
              "    }\n",
              "\n",
              "    .dataframe tbody tr th {\n",
              "        vertical-align: top;\n",
              "    }\n",
              "\n",
              "    .dataframe thead th {\n",
              "        text-align: right;\n",
              "    }\n",
              "</style>\n",
              "<table border=\"1\" class=\"dataframe\">\n",
              "  <thead>\n",
              "    <tr style=\"text-align: right;\">\n",
              "      <th></th>\n",
              "      <th>telecommuting</th>\n",
              "      <th>fraudulent</th>\n",
              "      <th>ratio</th>\n",
              "      <th>text</th>\n",
              "      <th>character_count</th>\n",
              "    </tr>\n",
              "  </thead>\n",
              "  <tbody>\n",
              "    <tr>\n",
              "      <th>0</th>\n",
              "      <td>0</td>\n",
              "      <td>0</td>\n",
              "      <td>0.03</td>\n",
              "      <td>Marketing Intern US, NY, New York We're Food52...</td>\n",
              "      <td>2705</td>\n",
              "    </tr>\n",
              "    <tr>\n",
              "      <th>1</th>\n",
              "      <td>0</td>\n",
              "      <td>0</td>\n",
              "      <td>0.03</td>\n",
              "      <td>Visual Designer US, NY, New York Kettle is an ...</td>\n",
              "      <td>1991</td>\n",
              "    </tr>\n",
              "    <tr>\n",
              "      <th>2</th>\n",
              "      <td>0</td>\n",
              "      <td>0</td>\n",
              "      <td>0.03</td>\n",
              "      <td>Payroll Tax Specialist US, NY, New York Namely...</td>\n",
              "      <td>1564</td>\n",
              "    </tr>\n",
              "    <tr>\n",
              "      <th>3</th>\n",
              "      <td>0</td>\n",
              "      <td>0</td>\n",
              "      <td>0.03</td>\n",
              "      <td>Marketing Manager US, NY, New York Super Socce...</td>\n",
              "      <td>2871</td>\n",
              "    </tr>\n",
              "    <tr>\n",
              "      <th>4</th>\n",
              "      <td>0</td>\n",
              "      <td>0</td>\n",
              "      <td>0.03</td>\n",
              "      <td>English Teacher Abroad US, NY, New York We hel...</td>\n",
              "      <td>669</td>\n",
              "    </tr>\n",
              "    <tr>\n",
              "      <th>...</th>\n",
              "      <td>...</td>\n",
              "      <td>...</td>\n",
              "      <td>...</td>\n",
              "      <td>...</td>\n",
              "      <td>...</td>\n",
              "    </tr>\n",
              "    <tr>\n",
              "      <th>10588</th>\n",
              "      <td>1</td>\n",
              "      <td>1</td>\n",
              "      <td>0.00</td>\n",
              "      <td>Military Benefits Counselor US, , chicago Anth...</td>\n",
              "      <td>1173</td>\n",
              "    </tr>\n",
              "    <tr>\n",
              "      <th>10589</th>\n",
              "      <td>0</td>\n",
              "      <td>0</td>\n",
              "      <td>0.00</td>\n",
              "      <td>Sr.Business Intelligence Technical Architect U...</td>\n",
              "      <td>1270</td>\n",
              "    </tr>\n",
              "    <tr>\n",
              "      <th>10590</th>\n",
              "      <td>0</td>\n",
              "      <td>0</td>\n",
              "      <td>0.00</td>\n",
              "      <td>Licensed Practical Nurse (LPN)- Private Duty U...</td>\n",
              "      <td>2124</td>\n",
              "    </tr>\n",
              "    <tr>\n",
              "      <th>10591</th>\n",
              "      <td>0</td>\n",
              "      <td>0</td>\n",
              "      <td>0.00</td>\n",
              "      <td>SAS Grid Developer US, NJ, Berkeley Heights   ...</td>\n",
              "      <td>1540</td>\n",
              "    </tr>\n",
              "    <tr>\n",
              "      <th>10592</th>\n",
              "      <td>0</td>\n",
              "      <td>0</td>\n",
              "      <td>0.00</td>\n",
              "      <td>Sr. Scm Web Development Technical Lead US, CA,...</td>\n",
              "      <td>2013</td>\n",
              "    </tr>\n",
              "  </tbody>\n",
              "</table>\n",
              "<p>10593 rows × 5 columns</p>\n",
              "</div>\n",
              "      <button class=\"colab-df-convert\" onclick=\"convertToInteractive('df-7be1dda8-e96d-4763-8869-ab080a8694ae')\"\n",
              "              title=\"Convert this dataframe to an interactive table.\"\n",
              "              style=\"display:none;\">\n",
              "        \n",
              "  <svg xmlns=\"http://www.w3.org/2000/svg\" height=\"24px\"viewBox=\"0 0 24 24\"\n",
              "       width=\"24px\">\n",
              "    <path d=\"M0 0h24v24H0V0z\" fill=\"none\"/>\n",
              "    <path d=\"M18.56 5.44l.94 2.06.94-2.06 2.06-.94-2.06-.94-.94-2.06-.94 2.06-2.06.94zm-11 1L8.5 8.5l.94-2.06 2.06-.94-2.06-.94L8.5 2.5l-.94 2.06-2.06.94zm10 10l.94 2.06.94-2.06 2.06-.94-2.06-.94-.94-2.06-.94 2.06-2.06.94z\"/><path d=\"M17.41 7.96l-1.37-1.37c-.4-.4-.92-.59-1.43-.59-.52 0-1.04.2-1.43.59L10.3 9.45l-7.72 7.72c-.78.78-.78 2.05 0 2.83L4 21.41c.39.39.9.59 1.41.59.51 0 1.02-.2 1.41-.59l7.78-7.78 2.81-2.81c.8-.78.8-2.07 0-2.86zM5.41 20L4 18.59l7.72-7.72 1.47 1.35L5.41 20z\"/>\n",
              "  </svg>\n",
              "      </button>\n",
              "      \n",
              "  <style>\n",
              "    .colab-df-container {\n",
              "      display:flex;\n",
              "      flex-wrap:wrap;\n",
              "      gap: 12px;\n",
              "    }\n",
              "\n",
              "    .colab-df-convert {\n",
              "      background-color: #E8F0FE;\n",
              "      border: none;\n",
              "      border-radius: 50%;\n",
              "      cursor: pointer;\n",
              "      display: none;\n",
              "      fill: #1967D2;\n",
              "      height: 32px;\n",
              "      padding: 0 0 0 0;\n",
              "      width: 32px;\n",
              "    }\n",
              "\n",
              "    .colab-df-convert:hover {\n",
              "      background-color: #E2EBFA;\n",
              "      box-shadow: 0px 1px 2px rgba(60, 64, 67, 0.3), 0px 1px 3px 1px rgba(60, 64, 67, 0.15);\n",
              "      fill: #174EA6;\n",
              "    }\n",
              "\n",
              "    [theme=dark] .colab-df-convert {\n",
              "      background-color: #3B4455;\n",
              "      fill: #D2E3FC;\n",
              "    }\n",
              "\n",
              "    [theme=dark] .colab-df-convert:hover {\n",
              "      background-color: #434B5C;\n",
              "      box-shadow: 0px 1px 3px 1px rgba(0, 0, 0, 0.15);\n",
              "      filter: drop-shadow(0px 1px 2px rgba(0, 0, 0, 0.3));\n",
              "      fill: #FFFFFF;\n",
              "    }\n",
              "  </style>\n",
              "\n",
              "      <script>\n",
              "        const buttonEl =\n",
              "          document.querySelector('#df-7be1dda8-e96d-4763-8869-ab080a8694ae button.colab-df-convert');\n",
              "        buttonEl.style.display =\n",
              "          google.colab.kernel.accessAllowed ? 'block' : 'none';\n",
              "\n",
              "        async function convertToInteractive(key) {\n",
              "          const element = document.querySelector('#df-7be1dda8-e96d-4763-8869-ab080a8694ae');\n",
              "          const dataTable =\n",
              "            await google.colab.kernel.invokeFunction('convertToInteractive',\n",
              "                                                     [key], {});\n",
              "          if (!dataTable) return;\n",
              "\n",
              "          const docLinkHtml = 'Like what you see? Visit the ' +\n",
              "            '<a target=\"_blank\" href=https://colab.research.google.com/notebooks/data_table.ipynb>data table notebook</a>'\n",
              "            + ' to learn more about interactive tables.';\n",
              "          element.innerHTML = '';\n",
              "          dataTable['output_type'] = 'display_data';\n",
              "          await google.colab.output.renderOutput(dataTable, element);\n",
              "          const docLink = document.createElement('div');\n",
              "          docLink.innerHTML = docLinkHtml;\n",
              "          element.appendChild(docLink);\n",
              "        }\n",
              "      </script>\n",
              "    </div>\n",
              "  </div>\n",
              "  "
            ],
            "text/plain": [
              "       telecommuting  fraudulent  ratio  \\\n",
              "0                  0           0   0.03   \n",
              "1                  0           0   0.03   \n",
              "2                  0           0   0.03   \n",
              "3                  0           0   0.03   \n",
              "4                  0           0   0.03   \n",
              "...              ...         ...    ...   \n",
              "10588              1           1   0.00   \n",
              "10589              0           0   0.00   \n",
              "10590              0           0   0.00   \n",
              "10591              0           0   0.00   \n",
              "10592              0           0   0.00   \n",
              "\n",
              "                                                    text  character_count  \n",
              "0      Marketing Intern US, NY, New York We're Food52...             2705  \n",
              "1      Visual Designer US, NY, New York Kettle is an ...             1991  \n",
              "2      Payroll Tax Specialist US, NY, New York Namely...             1564  \n",
              "3      Marketing Manager US, NY, New York Super Socce...             2871  \n",
              "4      English Teacher Abroad US, NY, New York We hel...              669  \n",
              "...                                                  ...              ...  \n",
              "10588  Military Benefits Counselor US, , chicago Anth...             1173  \n",
              "10589  Sr.Business Intelligence Technical Architect U...             1270  \n",
              "10590  Licensed Practical Nurse (LPN)- Private Duty U...             2124  \n",
              "10591  SAS Grid Developer US, NJ, Berkeley Heights   ...             1540  \n",
              "10592  Sr. Scm Web Development Technical Lead US, CA,...             2013  \n",
              "\n",
              "[10593 rows x 5 columns]"
            ]
          },
          "execution_count": 46,
          "metadata": {},
          "output_type": "execute_result"
        }
      ],
      "source": [
        "fake_job_postings_US"
      ]
    },
    {
      "cell_type": "markdown",
      "metadata": {
        "id": "IGhMs75BeGfq"
      },
      "source": [
        "## Text Analysis"
      ]
    },
    {
      "cell_type": "code",
      "execution_count": null,
      "metadata": {
        "colab": {
          "background_save": true
        },
        "id": "ky1luvpeEPAA",
        "outputId": "36a66a1a-3a26-4ac2-e0a2-4733dd7b2c6a"
      },
      "outputs": [
        {
          "data": {
            "text/html": [
              "\n",
              "  <div id=\"df-0509aa08-4453-40d0-9113-36fd4136fe4d\">\n",
              "    <div class=\"colab-df-container\">\n",
              "      <div>\n",
              "<style scoped>\n",
              "    .dataframe tbody tr th:only-of-type {\n",
              "        vertical-align: middle;\n",
              "    }\n",
              "\n",
              "    .dataframe tbody tr th {\n",
              "        vertical-align: top;\n",
              "    }\n",
              "\n",
              "    .dataframe thead th {\n",
              "        text-align: right;\n",
              "    }\n",
              "</style>\n",
              "<table border=\"1\" class=\"dataframe\">\n",
              "  <thead>\n",
              "    <tr style=\"text-align: right;\">\n",
              "      <th></th>\n",
              "      <th>telecommuting</th>\n",
              "      <th>fraudulent</th>\n",
              "      <th>ratio</th>\n",
              "      <th>text</th>\n",
              "      <th>character_count</th>\n",
              "      <th>PolarityScoreSummary</th>\n",
              "      <th>SubjectivityScoreText</th>\n",
              "    </tr>\n",
              "  </thead>\n",
              "  <tbody>\n",
              "    <tr>\n",
              "      <th>0</th>\n",
              "      <td>0</td>\n",
              "      <td>0</td>\n",
              "      <td>0.03</td>\n",
              "      <td>Marketing Intern US, NY, New York We're Food52...</td>\n",
              "      <td>2705</td>\n",
              "      <td>0.165813</td>\n",
              "      <td>0.447188</td>\n",
              "    </tr>\n",
              "    <tr>\n",
              "      <th>1</th>\n",
              "      <td>0</td>\n",
              "      <td>0</td>\n",
              "      <td>0.03</td>\n",
              "      <td>Visual Designer US, NY, New York Kettle is an ...</td>\n",
              "      <td>1991</td>\n",
              "      <td>0.210290</td>\n",
              "      <td>0.444654</td>\n",
              "    </tr>\n",
              "    <tr>\n",
              "      <th>2</th>\n",
              "      <td>0</td>\n",
              "      <td>0</td>\n",
              "      <td>0.03</td>\n",
              "      <td>Payroll Tax Specialist US, NY, New York Namely...</td>\n",
              "      <td>1564</td>\n",
              "      <td>0.249148</td>\n",
              "      <td>0.506534</td>\n",
              "    </tr>\n",
              "    <tr>\n",
              "      <th>3</th>\n",
              "      <td>0</td>\n",
              "      <td>0</td>\n",
              "      <td>0.03</td>\n",
              "      <td>Marketing Manager US, NY, New York Super Socce...</td>\n",
              "      <td>2871</td>\n",
              "      <td>0.321731</td>\n",
              "      <td>0.599166</td>\n",
              "    </tr>\n",
              "    <tr>\n",
              "      <th>4</th>\n",
              "      <td>0</td>\n",
              "      <td>0</td>\n",
              "      <td>0.03</td>\n",
              "      <td>English Teacher Abroad US, NY, New York We hel...</td>\n",
              "      <td>669</td>\n",
              "      <td>0.290909</td>\n",
              "      <td>0.593506</td>\n",
              "    </tr>\n",
              "    <tr>\n",
              "      <th>...</th>\n",
              "      <td>...</td>\n",
              "      <td>...</td>\n",
              "      <td>...</td>\n",
              "      <td>...</td>\n",
              "      <td>...</td>\n",
              "      <td>...</td>\n",
              "      <td>...</td>\n",
              "    </tr>\n",
              "    <tr>\n",
              "      <th>10588</th>\n",
              "      <td>1</td>\n",
              "      <td>1</td>\n",
              "      <td>0.00</td>\n",
              "      <td>Military Benefits Counselor US, , chicago Anth...</td>\n",
              "      <td>1173</td>\n",
              "      <td>-0.020635</td>\n",
              "      <td>0.232540</td>\n",
              "    </tr>\n",
              "    <tr>\n",
              "      <th>10589</th>\n",
              "      <td>0</td>\n",
              "      <td>0</td>\n",
              "      <td>0.00</td>\n",
              "      <td>Sr.Business Intelligence Technical Architect U...</td>\n",
              "      <td>1270</td>\n",
              "      <td>0.173626</td>\n",
              "      <td>0.323443</td>\n",
              "    </tr>\n",
              "    <tr>\n",
              "      <th>10590</th>\n",
              "      <td>0</td>\n",
              "      <td>0</td>\n",
              "      <td>0.00</td>\n",
              "      <td>Licensed Practical Nurse (LPN)- Private Duty U...</td>\n",
              "      <td>2124</td>\n",
              "      <td>0.285529</td>\n",
              "      <td>0.502910</td>\n",
              "    </tr>\n",
              "    <tr>\n",
              "      <th>10591</th>\n",
              "      <td>0</td>\n",
              "      <td>0</td>\n",
              "      <td>0.00</td>\n",
              "      <td>SAS Grid Developer US, NJ, Berkeley Heights   ...</td>\n",
              "      <td>1540</td>\n",
              "      <td>0.105079</td>\n",
              "      <td>0.407937</td>\n",
              "    </tr>\n",
              "    <tr>\n",
              "      <th>10592</th>\n",
              "      <td>0</td>\n",
              "      <td>0</td>\n",
              "      <td>0.00</td>\n",
              "      <td>Sr. Scm Web Development Technical Lead US, CA,...</td>\n",
              "      <td>2013</td>\n",
              "      <td>0.027789</td>\n",
              "      <td>0.285813</td>\n",
              "    </tr>\n",
              "  </tbody>\n",
              "</table>\n",
              "<p>10593 rows × 7 columns</p>\n",
              "</div>\n",
              "      <button class=\"colab-df-convert\" onclick=\"convertToInteractive('df-0509aa08-4453-40d0-9113-36fd4136fe4d')\"\n",
              "              title=\"Convert this dataframe to an interactive table.\"\n",
              "              style=\"display:none;\">\n",
              "        \n",
              "  <svg xmlns=\"http://www.w3.org/2000/svg\" height=\"24px\"viewBox=\"0 0 24 24\"\n",
              "       width=\"24px\">\n",
              "    <path d=\"M0 0h24v24H0V0z\" fill=\"none\"/>\n",
              "    <path d=\"M18.56 5.44l.94 2.06.94-2.06 2.06-.94-2.06-.94-.94-2.06-.94 2.06-2.06.94zm-11 1L8.5 8.5l.94-2.06 2.06-.94-2.06-.94L8.5 2.5l-.94 2.06-2.06.94zm10 10l.94 2.06.94-2.06 2.06-.94-2.06-.94-.94-2.06-.94 2.06-2.06.94z\"/><path d=\"M17.41 7.96l-1.37-1.37c-.4-.4-.92-.59-1.43-.59-.52 0-1.04.2-1.43.59L10.3 9.45l-7.72 7.72c-.78.78-.78 2.05 0 2.83L4 21.41c.39.39.9.59 1.41.59.51 0 1.02-.2 1.41-.59l7.78-7.78 2.81-2.81c.8-.78.8-2.07 0-2.86zM5.41 20L4 18.59l7.72-7.72 1.47 1.35L5.41 20z\"/>\n",
              "  </svg>\n",
              "      </button>\n",
              "      \n",
              "  <style>\n",
              "    .colab-df-container {\n",
              "      display:flex;\n",
              "      flex-wrap:wrap;\n",
              "      gap: 12px;\n",
              "    }\n",
              "\n",
              "    .colab-df-convert {\n",
              "      background-color: #E8F0FE;\n",
              "      border: none;\n",
              "      border-radius: 50%;\n",
              "      cursor: pointer;\n",
              "      display: none;\n",
              "      fill: #1967D2;\n",
              "      height: 32px;\n",
              "      padding: 0 0 0 0;\n",
              "      width: 32px;\n",
              "    }\n",
              "\n",
              "    .colab-df-convert:hover {\n",
              "      background-color: #E2EBFA;\n",
              "      box-shadow: 0px 1px 2px rgba(60, 64, 67, 0.3), 0px 1px 3px 1px rgba(60, 64, 67, 0.15);\n",
              "      fill: #174EA6;\n",
              "    }\n",
              "\n",
              "    [theme=dark] .colab-df-convert {\n",
              "      background-color: #3B4455;\n",
              "      fill: #D2E3FC;\n",
              "    }\n",
              "\n",
              "    [theme=dark] .colab-df-convert:hover {\n",
              "      background-color: #434B5C;\n",
              "      box-shadow: 0px 1px 3px 1px rgba(0, 0, 0, 0.15);\n",
              "      filter: drop-shadow(0px 1px 2px rgba(0, 0, 0, 0.3));\n",
              "      fill: #FFFFFF;\n",
              "    }\n",
              "  </style>\n",
              "\n",
              "      <script>\n",
              "        const buttonEl =\n",
              "          document.querySelector('#df-0509aa08-4453-40d0-9113-36fd4136fe4d button.colab-df-convert');\n",
              "        buttonEl.style.display =\n",
              "          google.colab.kernel.accessAllowed ? 'block' : 'none';\n",
              "\n",
              "        async function convertToInteractive(key) {\n",
              "          const element = document.querySelector('#df-0509aa08-4453-40d0-9113-36fd4136fe4d');\n",
              "          const dataTable =\n",
              "            await google.colab.kernel.invokeFunction('convertToInteractive',\n",
              "                                                     [key], {});\n",
              "          if (!dataTable) return;\n",
              "\n",
              "          const docLinkHtml = 'Like what you see? Visit the ' +\n",
              "            '<a target=\"_blank\" href=https://colab.research.google.com/notebooks/data_table.ipynb>data table notebook</a>'\n",
              "            + ' to learn more about interactive tables.';\n",
              "          element.innerHTML = '';\n",
              "          dataTable['output_type'] = 'display_data';\n",
              "          await google.colab.output.renderOutput(dataTable, element);\n",
              "          const docLink = document.createElement('div');\n",
              "          docLink.innerHTML = docLinkHtml;\n",
              "          element.appendChild(docLink);\n",
              "        }\n",
              "      </script>\n",
              "    </div>\n",
              "  </div>\n",
              "  "
            ],
            "text/plain": [
              "       telecommuting  fraudulent  ratio  \\\n",
              "0                  0           0   0.03   \n",
              "1                  0           0   0.03   \n",
              "2                  0           0   0.03   \n",
              "3                  0           0   0.03   \n",
              "4                  0           0   0.03   \n",
              "...              ...         ...    ...   \n",
              "10588              1           1   0.00   \n",
              "10589              0           0   0.00   \n",
              "10590              0           0   0.00   \n",
              "10591              0           0   0.00   \n",
              "10592              0           0   0.00   \n",
              "\n",
              "                                                    text  character_count  \\\n",
              "0      Marketing Intern US, NY, New York We're Food52...             2705   \n",
              "1      Visual Designer US, NY, New York Kettle is an ...             1991   \n",
              "2      Payroll Tax Specialist US, NY, New York Namely...             1564   \n",
              "3      Marketing Manager US, NY, New York Super Socce...             2871   \n",
              "4      English Teacher Abroad US, NY, New York We hel...              669   \n",
              "...                                                  ...              ...   \n",
              "10588  Military Benefits Counselor US, , chicago Anth...             1173   \n",
              "10589  Sr.Business Intelligence Technical Architect U...             1270   \n",
              "10590  Licensed Practical Nurse (LPN)- Private Duty U...             2124   \n",
              "10591  SAS Grid Developer US, NJ, Berkeley Heights   ...             1540   \n",
              "10592  Sr. Scm Web Development Technical Lead US, CA,...             2013   \n",
              "\n",
              "       PolarityScoreSummary  SubjectivityScoreText  \n",
              "0                  0.165813               0.447188  \n",
              "1                  0.210290               0.444654  \n",
              "2                  0.249148               0.506534  \n",
              "3                  0.321731               0.599166  \n",
              "4                  0.290909               0.593506  \n",
              "...                     ...                    ...  \n",
              "10588             -0.020635               0.232540  \n",
              "10589              0.173626               0.323443  \n",
              "10590              0.285529               0.502910  \n",
              "10591              0.105079               0.407937  \n",
              "10592              0.027789               0.285813  \n",
              "\n",
              "[10593 rows x 7 columns]"
            ]
          },
          "execution_count": 47,
          "metadata": {},
          "output_type": "execute_result"
        }
      ],
      "source": [
        "from textblob import TextBlob as tb\n",
        "\n",
        "fake_job_postings_US['PolarityScoreSummary'] = fake_job_postings_US['text'].apply(lambda t:(tb(str(t)).sentiment.polarity))\n",
        "fake_job_postings_US['SubjectivityScoreText'] = fake_job_postings_US['text'].apply(lambda t:(tb(str(t)).sentiment.subjectivity))\n",
        "fake_job_postings_US\n"
      ]
    },
    {
      "cell_type": "code",
      "execution_count": null,
      "metadata": {
        "colab": {
          "background_save": true
        },
        "id": "XBdCkqMCApWu"
      },
      "outputs": [],
      "source": [
        "\n"
      ]
    },
    {
      "cell_type": "code",
      "execution_count": null,
      "metadata": {
        "colab": {
          "background_save": true
        },
        "id": "CKcR-VdHjaVv",
        "outputId": "11a4e1ee-4946-49c3-eb45-c7ac2beb6548"
      },
      "outputs": [
        {
          "name": "stderr",
          "output_type": "stream",
          "text": [
            "[nltk_data] Downloading package punkt to /root/nltk_data...\n",
            "[nltk_data]   Unzipping tokenizers/punkt.zip.\n"
          ]
        },
        {
          "data": {
            "text/plain": [
              "True"
            ]
          },
          "execution_count": 48,
          "metadata": {},
          "output_type": "execute_result"
        }
      ],
      "source": [
        "from nltk.corpus import stopwords\n",
        "from nltk.tokenize import word_tokenize\n",
        "from nltk.tokenize import sent_tokenize\n",
        "from nltk.stem import WordNetLemmatizer\n",
        "from collections import Counter\n",
        "import nltk\n",
        "nltk.download('punkt')"
      ]
    },
    {
      "cell_type": "code",
      "execution_count": null,
      "metadata": {
        "id": "GGsOcnMCjaVv"
      },
      "outputs": [],
      "source": [
        "text = fake_job_postings_US[fake_job_postings_US.fraudulent==0].text.to_list()\n",
        "text = ' '.join(text)\n",
        "tokens_text = word_tokenize(text)"
      ]
    },
    {
      "cell_type": "code",
      "execution_count": null,
      "metadata": {
        "id": "6zWU-B3sjaVw"
      },
      "outputs": [],
      "source": [
        "lower_tokens = [t.lower() for t in tokens_text]\n",
        "word_freq = Counter(lower_tokens)\n",
        "print(Counter.most_common(word_freq, 10))"
      ]
    },
    {
      "cell_type": "code",
      "execution_count": null,
      "metadata": {
        "id": "q_9SJM8qjaV5"
      },
      "outputs": [],
      "source": [
        "text_only_alphabets = [t for t in lower_tokens if t.isalpha()]"
      ]
    },
    {
      "cell_type": "code",
      "execution_count": null,
      "metadata": {
        "id": "kesXHNy6LXA6"
      },
      "outputs": [],
      "source": [
        "nltk.download('stopwords')"
      ]
    },
    {
      "cell_type": "code",
      "execution_count": null,
      "metadata": {
        "id": "WKlW_2IbjaV6"
      },
      "outputs": [],
      "source": [
        "english_stopped = stopwords.words('english')\n",
        "no_stops = [t for t in text_only_alphabets if t not in english_stopped]"
      ]
    },
    {
      "cell_type": "code",
      "execution_count": null,
      "metadata": {
        "id": "aggQBvP376oW"
      },
      "outputs": [],
      "source": [
        "nltk.download('wordnet')\n",
        "nltk.download('omw-1.4')"
      ]
    },
    {
      "cell_type": "code",
      "execution_count": null,
      "metadata": {
        "id": "cMAKuEFkjaV6"
      },
      "outputs": [],
      "source": [
        "from nltk.stem import WordNetLemmatizer\n",
        "wordnet_lemmatizer = WordNetLemmatizer()\n",
        "\n",
        "lemmatized = [wordnet_lemmatizer.lemmatize(t) for t in no_stops]\n",
        "bow = Counter(lemmatized)\n",
        "print(Counter.most_common(bow, 10))\n"
      ]
    },
    {
      "cell_type": "code",
      "execution_count": null,
      "metadata": {
        "id": "_1S5b_Qxdx-w"
      },
      "outputs": [],
      "source": [
        "NonFraudWords = Counter.most_common(bow, 15)\n",
        "def Convert(tup, di):\n",
        "    di = dict(tup)\n",
        "    return di\n",
        "\n",
        "lNF = Convert(NonFraudWords,{})\n",
        "print(lNF)\n",
        "from wordcloud import WordCloud\n",
        "wc = WordCloud(background_color=\"white\",width=1000,height=1000, max_words=15,relative_scaling=0.5,normalize_plurals=False).generate_from_frequencies(lNF)\n",
        "plt.imshow(wc)"
      ]
    },
    {
      "cell_type": "code",
      "execution_count": null,
      "metadata": {
        "id": "9uDZJH2sEpnM"
      },
      "outputs": [],
      "source": [
        "# Fraudulent jobs top 10 words\n",
        "\n",
        "text = fake_job_postings_US[fake_job_postings_US.fraudulent==1].text.to_list()\n",
        "text = ' '.join(text)\n",
        "tokens_text = word_tokenize(text)\n"
      ]
    },
    {
      "cell_type": "code",
      "execution_count": null,
      "metadata": {
        "id": "G-83yWa5FC_D"
      },
      "outputs": [],
      "source": [
        "lower_tokens = [t.lower() for t in tokens_text]\n",
        "word_freq = Counter(lower_tokens)\n",
        "print(Counter.most_common(word_freq, 10))\n",
        "text_only_alphabets = [t for t in lower_tokens if t.isalpha()]\n",
        "no_stops = [t for t in text_only_alphabets if t not in english_stopped]\n",
        "wordnet_lemmatizer = WordNetLemmatizer()\n",
        "\n",
        "lemmatized = [wordnet_lemmatizer.lemmatize(t) for t in no_stops]\n",
        "bow = Counter(lemmatized)\n",
        "print(Counter.most_common(bow, 10))"
      ]
    },
    {
      "cell_type": "code",
      "execution_count": null,
      "metadata": {
        "id": "PNlW5LvjfBwW"
      },
      "outputs": [],
      "source": [
        "FraudWords = Counter.most_common(bow, 15)\n",
        "lF = Convert(FraudWords,{})\n",
        "print(lF)\n",
        "from wordcloud import WordCloud\n",
        "wc = WordCloud(background_color=\"white\",width=1000,height=1000, max_words=15,relative_scaling=0.5,normalize_plurals=False).generate_from_frequencies(lF)\n",
        "plt.imshow(wc)"
      ]
    },
    {
      "cell_type": "code",
      "execution_count": null,
      "metadata": {
        "id": "e5dmKz4Vk9Ke"
      },
      "outputs": [],
      "source": []
    },
    {
      "cell_type": "code",
      "execution_count": null,
      "metadata": {
        "id": "Q7ZeptzDeGfr"
      },
      "outputs": [],
      "source": [
        "import nltk\n",
        "nltk.download('punkt')\n",
        "from nltk.corpus import stopwords\n",
        "from nltk.tokenize import word_tokenize\n",
        "from nltk.tokenize import sent_tokenize\n",
        "from nltk.stem import WordNetLemmatizer\n",
        "from collections import Counter"
      ]
    },
    {
      "cell_type": "code",
      "execution_count": null,
      "metadata": {
        "id": "xe0wjGlReGfr"
      },
      "outputs": [],
      "source": [
        "text = fake_job_postings_US.text.to_list()\n",
        "text = ' '.join(text)\n",
        "tokens_text = word_tokenize(text)"
      ]
    },
    {
      "cell_type": "code",
      "execution_count": null,
      "metadata": {
        "id": "LePUq517eGfr"
      },
      "outputs": [],
      "source": [
        "lower_tokens = [t.lower() for t in tokens_text]\n",
        "word_freq = Counter(lower_tokens)\n",
        "print(Counter.most_common(word_freq, 10))"
      ]
    },
    {
      "cell_type": "code",
      "execution_count": null,
      "metadata": {
        "id": "U8u5mv_UeGfs"
      },
      "outputs": [],
      "source": [
        "text_only_alphabets = [t for t in lower_tokens if t.isalpha()]"
      ]
    },
    {
      "cell_type": "code",
      "execution_count": null,
      "metadata": {
        "id": "25Q2I9U8eGfs"
      },
      "outputs": [],
      "source": [
        "import nltk\n",
        "nltk.download('stopwords')\n",
        "\n",
        "english_stopped = stopwords.words('english')\n",
        "no_stops = [t for t in text_only_alphabets if t not in english_stopped]"
      ]
    },
    {
      "cell_type": "code",
      "execution_count": null,
      "metadata": {
        "id": "yEoGwAzaeGfs"
      },
      "outputs": [],
      "source": [
        "nltk.download('wordnet')\n",
        "nltk.download('omw-1.4')\n",
        "\n",
        "wordnet_lemmatizer = WordNetLemmatizer()\n",
        "\n",
        "lemmatized = [wordnet_lemmatizer.lemmatize(t) for t in no_stops]\n",
        "bow = Counter(lemmatized)\n",
        "print(Counter.most_common(bow, 10))"
      ]
    }
  ],
  "metadata": {
    "colab": {
      "collapsed_sections": [
        "IGhMs75BeGfq"
      ],
      "provenance": []
    },
    "kernelspec": {
      "display_name": "Python 3.8.5 64-bit",
      "name": "python3"
    },
    "language_info": {
      "codemirror_mode": {
        "name": "ipython",
        "version": 3
      },
      "file_extension": ".py",
      "mimetype": "text/x-python",
      "name": "python",
      "nbconvert_exporter": "python",
      "pygments_lexer": "ipython3",
      "version": "3.8.5-final"
    }
  },
  "nbformat": 4,
  "nbformat_minor": 0
}